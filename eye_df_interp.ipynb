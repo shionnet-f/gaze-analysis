{
 "cells": [
  {
   "cell_type": "code",
   "execution_count": 9,
   "id": "2331db99",
   "metadata": {},
   "outputs": [],
   "source": [
    "import pandas as pd\n",
    "import numpy as np\n",
    "\n",
    "subject_id = 1\n",
    "experiment_id=1\n",
    "\n",
    "\n",
    "\n",
    "def interpolate_validity(eye_df, max_gap_duration=0.1):\n",
    "    \n",
    "    eye_df = pd.read_csv(f\"exported_csv/eye_df_id{subject_id:03}-{experiment_id:03}.csv\")\n",
    "    eye_df = eye_df.copy()\n",
    "\n",
    "    # 欠損扱いの視線を NaN にする（validity_sum != 2）\n",
    "    gx_interp = eye_df['gx'].copy()\n",
    "    gy_interp = eye_df['gy'].copy()\n",
    "    gx_interp[eye_df['validity_sum'] != 2] = np.nan\n",
    "    gy_interp[eye_df['validity_sum'] != 2] = np.nan\n",
    "\n",
    "    # 初期 validity_interp を 2（完全有効）としておく\n",
    "    validity_interp = np.full(len(eye_df), 2.0)\n",
    "    validity_interp[eye_df['validity_sum'] != 2] = np.nan  # 一時的に NaN にする\n",
    "\n",
    "    isnan = gx_interp.isna()\n",
    "    gap_start = None\n",
    "\n",
    "    for i in range(len(eye_df)):\n",
    "        if isnan.iloc[i] and gap_start is None:\n",
    "            gap_start = i\n",
    "        elif not isnan.iloc[i] and gap_start is not None:\n",
    "            gap_end = i\n",
    "            duration = eye_df['epoch_sec'].iloc[gap_end - 1] - eye_df['epoch_sec'].iloc[gap_start]\n",
    "            if duration <= max_gap_duration:\n",
    "                # 補完する（視線座標）\n",
    "                gx_interp.iloc[gap_start:gap_end] = gx_interp.interpolate(method='linear').iloc[gap_start:gap_end]\n",
    "                gy_interp.iloc[gap_start:gap_end] = gy_interp.interpolate(method='linear').iloc[gap_start:gap_end]\n",
    "                validity_interp[gap_start:gap_end] = 1  # 補完済み\n",
    "            else:\n",
    "                validity_interp[gap_start:gap_end] = 0  # 補完せず\n",
    "            gap_start = None\n",
    "\n",
    "    # 最後が欠損で終わる場合\n",
    "    if gap_start is not None:\n",
    "        validity_interp[gap_start:] = 0\n",
    "\n",
    "    # 結果の追加\n",
    "    eye_df['gx_interp'] = gx_interp\n",
    "    eye_df['gy_interp'] = gy_interp\n",
    "    eye_df['validity_interp'] = np.nan_to_num(validity_interp, nan=0).astype(int)\n",
    "\n",
    "    return eye_df\n"
   ]
  },
  {
   "cell_type": "code",
   "execution_count": 10,
   "id": "a7ca13b7",
   "metadata": {},
   "outputs": [],
   "source": [
    "eye_df = interpolate_validity(eye_df)"
   ]
  },
  {
   "cell_type": "code",
   "execution_count": 11,
   "id": "92f04892",
   "metadata": {},
   "outputs": [],
   "source": [
    "# ファイル名（例：補完後のデータを保存）\n",
    "output_path = f\"exported_csv/eye_df_interp/eye_df_interp{subject_id:03}-{experiment_id:03}.csv\"\n",
    "\n",
    "# 保存（index=Falseでインデックス列を除く）\n",
    "eye_df.to_csv(output_path, index=False, float_format=\"%.6f\", encoding=\"utf-8-sig\")\n"
   ]
  }
 ],
 "metadata": {
  "kernelspec": {
   "display_name": "Python 3",
   "language": "python",
   "name": "python3"
  },
  "language_info": {
   "codemirror_mode": {
    "name": "ipython",
    "version": 3
   },
   "file_extension": ".py",
   "mimetype": "text/x-python",
   "name": "python",
   "nbconvert_exporter": "python",
   "pygments_lexer": "ipython3",
   "version": "3.13.2"
  }
 },
 "nbformat": 4,
 "nbformat_minor": 5
}
