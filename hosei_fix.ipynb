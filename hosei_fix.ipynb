{
 "cells": [
  {
   "cell_type": "code",
   "execution_count": null,
   "id": "1fb44e46",
   "metadata": {},
   "outputs": [],
   "source": [
    "import pandas as pd\n",
    "import numpy as np\n",
    "import os\n",
    "\n",
    "\n",
    "subject_id = \"001\"\n",
    "experiment_id = \"001\""
   ]
  },
  {
   "cell_type": "code",
   "execution_count": null,
   "id": "a2b747f5",
   "metadata": {},
   "outputs": [],
   "source": [
    "# === 設定 ===\n",
    "summary_path = \".exported_cdv/pose_df/pose_fix_df/precision_summary.csv\"\n",
    "input_dir = \"./exported_csv/fixation_IVT/fix_df_{subject_id:03}-{experiment_id:03}\"  # fix_df_ファイルがあるフォルダ\n",
    "output_dir = \"./corrected\"  # 補正後のファイルを保存するフォルダ\n",
    "\n",
    "os.makedirs(output_dir, exist_ok=True)"
   ]
  }
 ],
 "metadata": {
  "kernelspec": {
   "display_name": "Python 3",
   "language": "python",
   "name": "python3"
  },
  "language_info": {
   "codemirror_mode": {
    "name": "ipython",
    "version": 3
   },
   "file_extension": ".py",
   "mimetype": "text/x-python",
   "name": "python",
   "nbconvert_exporter": "python",
   "pygments_lexer": "ipython3",
   "version": "3.11.9"
  }
 },
 "nbformat": 4,
 "nbformat_minor": 5
}
