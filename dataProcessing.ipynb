{
 "cells": [
  {
   "cell_type": "markdown",
   "id": "58de3bec",
   "metadata": {},
   "source": [
    "# 各DFの意味\n",
    "## <eye_df>\n",
    "実験課題開始から終了までの約10分の視線データ\n",
    "### ・gx,gy\n",
    "視線のディスプレイ上重心座標\n",
    "### ・epoch_sec,h:mm:ss\n",
    "各視線データ計測時のUNIX時間及びリアルタイム\n",
    "### ・validity_sum\n",
    "各視線データの左右の目の有効性の和\n",
    "(0:どちらもNaN,1:どちらかNaN,2:どちらもデータが取れた)\n",
    "### ・trial\n",
    "各視線データがどの画像提示中に記録されたものかを表す\n",
    "(-1:画像提示以外の時間)\n",
    "## <trial_df>\n",
    "実験課題実施中の行動データ\n",
    "### ・Images\n",
    "提示画像名\n",
    "### ・trial\n",
    "各画像のナンバリング\n",
    "### ・image_epoch,image_str\n",
    "画像提示開始時刻のUNIX時間及びリアルタイム\n",
    "### ・hyouka_epoch,hyouka_str\n",
    "画像評価開始時刻のUNIX時間及びリアルタイム\n",
    "## <sampling_df>\n",
    "各画像のサンプリングレート\n",
    "### ・trial  \n",
    "各画像のナンバリング\n",
    "### ・samples\n",
    "各画像提示中の視線データ数\n",
    "### ・start_sec\n",
    "画像提示開始時刻のUNIX時間\n",
    "### ・end_sec\n",
    "画像評価開始時刻\n",
    "### ・duration_sec  \n",
    "画像提示秒\n",
    "### ・sampling_rate_Hz\n",
    "各画像のサンプリングレート"
   ]
  },
  {
   "cell_type": "code",
   "execution_count": 905,
   "id": "93a0eaac",
   "metadata": {},
   "outputs": [],
   "source": [
    "import pandas as pd\n",
    "import numpy as np\n",
    "import ast\n",
    "from datetime import datetime,timezone\n",
    "import os\n",
    "\n",
    "\n",
    "\n",
    "# pd.set_option('display.max_columns', None)\n",
    "# pd.set_option('display.max_rows', None)"
   ]
  },
  {
   "cell_type": "code",
   "execution_count": 906,
   "id": "93ecf875",
   "metadata": {},
   "outputs": [],
   "source": [
    "# # yyyy/mm/dd h:mm:ss.000\n",
    "# 被験者IDを指定（例：id001）\n",
    "participant_id = \"id019\"\n",
    "exp_num = \"003\"\n",
    "folder = \"exported_csv\"\n",
    "\n",
    "# ファイル読み込み\n",
    "psychopy_path = f\"PsychoData/{participant_id}/{exp_num}.csv\"\n",
    "eye_path = f\"tobiiData/aha-{participant_id}-{exp_num}.csv\"\n",
    "\n",
    "eye_df = pd.read_csv(eye_path)\n",
    "psychopy_df = pd.read_csv(psychopy_path)\n"
   ]
  },
  {
   "cell_type": "code",
   "execution_count": 907,
   "id": "406807c3",
   "metadata": {},
   "outputs": [
    {
     "ename": "KeyboardInterrupt",
     "evalue": "",
     "output_type": "error",
     "traceback": [
      "\u001b[31m---------------------------------------------------------------------------\u001b[39m",
      "\u001b[31mKeyboardInterrupt\u001b[39m                         Traceback (most recent call last)",
      "\u001b[36mCell\u001b[39m\u001b[36m \u001b[39m\u001b[32mIn[907]\u001b[39m\u001b[32m, line 10\u001b[39m\n\u001b[32m      7\u001b[39m         \u001b[38;5;28;01mreturn\u001b[39;00m np.nan, np.nan\n\u001b[32m      9\u001b[39m eye_df[[\u001b[33m\"\u001b[39m\u001b[33mlx\u001b[39m\u001b[33m\"\u001b[39m, \u001b[33m\"\u001b[39m\u001b[33mly\u001b[39m\u001b[33m\"\u001b[39m]] = eye_df[\u001b[33m\"\u001b[39m\u001b[33mleft_gaze_point_on_display_area\u001b[39m\u001b[33m\"\u001b[39m].apply(parse_coord).apply(pd.Series)\n\u001b[32m---> \u001b[39m\u001b[32m10\u001b[39m eye_df[[\u001b[33m\"\u001b[39m\u001b[33mrx\u001b[39m\u001b[33m\"\u001b[39m, \u001b[33m\"\u001b[39m\u001b[33mry\u001b[39m\u001b[33m\"\u001b[39m]] = \u001b[43meye_df\u001b[49m\u001b[43m[\u001b[49m\u001b[33;43m\"\u001b[39;49m\u001b[33;43mright_gaze_point_on_display_area\u001b[39;49m\u001b[33;43m\"\u001b[39;49m\u001b[43m]\u001b[49m\u001b[43m.\u001b[49m\u001b[43mapply\u001b[49m\u001b[43m(\u001b[49m\u001b[43mparse_coord\u001b[49m\u001b[43m)\u001b[49m\u001b[43m.\u001b[49m\u001b[43mapply\u001b[49m\u001b[43m(\u001b[49m\u001b[43mpd\u001b[49m\u001b[43m.\u001b[49m\u001b[43mSeries\u001b[49m\u001b[43m)\u001b[49m\n\u001b[32m     11\u001b[39m eye_df[\u001b[33m\"\u001b[39m\u001b[33mgx\u001b[39m\u001b[33m\"\u001b[39m] = eye_df[[\u001b[33m\"\u001b[39m\u001b[33mlx\u001b[39m\u001b[33m\"\u001b[39m, \u001b[33m\"\u001b[39m\u001b[33mrx\u001b[39m\u001b[33m\"\u001b[39m]].mean(axis=\u001b[32m1\u001b[39m)\n\u001b[32m     12\u001b[39m eye_df[\u001b[33m\"\u001b[39m\u001b[33mgy\u001b[39m\u001b[33m\"\u001b[39m] = eye_df[[\u001b[33m\"\u001b[39m\u001b[33mly\u001b[39m\u001b[33m\"\u001b[39m, \u001b[33m\"\u001b[39m\u001b[33mry\u001b[39m\u001b[33m\"\u001b[39m]].mean(axis=\u001b[32m1\u001b[39m)\n",
      "\u001b[36mFile \u001b[39m\u001b[32m~\\AppData\\Roaming\\Python\\Python313\\site-packages\\pandas\\core\\series.py:4924\u001b[39m, in \u001b[36mSeries.apply\u001b[39m\u001b[34m(self, func, convert_dtype, args, by_row, **kwargs)\u001b[39m\n\u001b[32m   4789\u001b[39m \u001b[38;5;28;01mdef\u001b[39;00m\u001b[38;5;250m \u001b[39m\u001b[34mapply\u001b[39m(\n\u001b[32m   4790\u001b[39m     \u001b[38;5;28mself\u001b[39m,\n\u001b[32m   4791\u001b[39m     func: AggFuncType,\n\u001b[32m   (...)\u001b[39m\u001b[32m   4796\u001b[39m     **kwargs,\n\u001b[32m   4797\u001b[39m ) -> DataFrame | Series:\n\u001b[32m   4798\u001b[39m \u001b[38;5;250m    \u001b[39m\u001b[33;03m\"\"\"\u001b[39;00m\n\u001b[32m   4799\u001b[39m \u001b[33;03m    Invoke function on values of Series.\u001b[39;00m\n\u001b[32m   4800\u001b[39m \n\u001b[32m   (...)\u001b[39m\u001b[32m   4915\u001b[39m \u001b[33;03m    dtype: float64\u001b[39;00m\n\u001b[32m   4916\u001b[39m \u001b[33;03m    \"\"\"\u001b[39;00m\n\u001b[32m   4917\u001b[39m     \u001b[38;5;28;01mreturn\u001b[39;00m \u001b[43mSeriesApply\u001b[49m\u001b[43m(\u001b[49m\n\u001b[32m   4918\u001b[39m \u001b[43m        \u001b[49m\u001b[38;5;28;43mself\u001b[39;49m\u001b[43m,\u001b[49m\n\u001b[32m   4919\u001b[39m \u001b[43m        \u001b[49m\u001b[43mfunc\u001b[49m\u001b[43m,\u001b[49m\n\u001b[32m   4920\u001b[39m \u001b[43m        \u001b[49m\u001b[43mconvert_dtype\u001b[49m\u001b[43m=\u001b[49m\u001b[43mconvert_dtype\u001b[49m\u001b[43m,\u001b[49m\n\u001b[32m   4921\u001b[39m \u001b[43m        \u001b[49m\u001b[43mby_row\u001b[49m\u001b[43m=\u001b[49m\u001b[43mby_row\u001b[49m\u001b[43m,\u001b[49m\n\u001b[32m   4922\u001b[39m \u001b[43m        \u001b[49m\u001b[43margs\u001b[49m\u001b[43m=\u001b[49m\u001b[43margs\u001b[49m\u001b[43m,\u001b[49m\n\u001b[32m   4923\u001b[39m \u001b[43m        \u001b[49m\u001b[43mkwargs\u001b[49m\u001b[43m=\u001b[49m\u001b[43mkwargs\u001b[49m\u001b[43m,\u001b[49m\n\u001b[32m-> \u001b[39m\u001b[32m4924\u001b[39m \u001b[43m    \u001b[49m\u001b[43m)\u001b[49m\u001b[43m.\u001b[49m\u001b[43mapply\u001b[49m\u001b[43m(\u001b[49m\u001b[43m)\u001b[49m\n",
      "\u001b[36mFile \u001b[39m\u001b[32m~\\AppData\\Roaming\\Python\\Python313\\site-packages\\pandas\\core\\apply.py:1427\u001b[39m, in \u001b[36mSeriesApply.apply\u001b[39m\u001b[34m(self)\u001b[39m\n\u001b[32m   1424\u001b[39m     \u001b[38;5;28;01mreturn\u001b[39;00m \u001b[38;5;28mself\u001b[39m.apply_compat()\n\u001b[32m   1426\u001b[39m \u001b[38;5;66;03m# self.func is Callable\u001b[39;00m\n\u001b[32m-> \u001b[39m\u001b[32m1427\u001b[39m \u001b[38;5;28;01mreturn\u001b[39;00m \u001b[38;5;28;43mself\u001b[39;49m\u001b[43m.\u001b[49m\u001b[43mapply_standard\u001b[49m\u001b[43m(\u001b[49m\u001b[43m)\u001b[49m\n",
      "\u001b[36mFile \u001b[39m\u001b[32m~\\AppData\\Roaming\\Python\\Python313\\site-packages\\pandas\\core\\apply.py:1507\u001b[39m, in \u001b[36mSeriesApply.apply_standard\u001b[39m\u001b[34m(self)\u001b[39m\n\u001b[32m   1501\u001b[39m \u001b[38;5;66;03m# row-wise access\u001b[39;00m\n\u001b[32m   1502\u001b[39m \u001b[38;5;66;03m# apply doesn't have a `na_action` keyword and for backward compat reasons\u001b[39;00m\n\u001b[32m   1503\u001b[39m \u001b[38;5;66;03m# we need to give `na_action=\"ignore\"` for categorical data.\u001b[39;00m\n\u001b[32m   1504\u001b[39m \u001b[38;5;66;03m# TODO: remove the `na_action=\"ignore\"` when that default has been changed in\u001b[39;00m\n\u001b[32m   1505\u001b[39m \u001b[38;5;66;03m#  Categorical (GH51645).\u001b[39;00m\n\u001b[32m   1506\u001b[39m action = \u001b[33m\"\u001b[39m\u001b[33mignore\u001b[39m\u001b[33m\"\u001b[39m \u001b[38;5;28;01mif\u001b[39;00m \u001b[38;5;28misinstance\u001b[39m(obj.dtype, CategoricalDtype) \u001b[38;5;28;01melse\u001b[39;00m \u001b[38;5;28;01mNone\u001b[39;00m\n\u001b[32m-> \u001b[39m\u001b[32m1507\u001b[39m mapped = \u001b[43mobj\u001b[49m\u001b[43m.\u001b[49m\u001b[43m_map_values\u001b[49m\u001b[43m(\u001b[49m\n\u001b[32m   1508\u001b[39m \u001b[43m    \u001b[49m\u001b[43mmapper\u001b[49m\u001b[43m=\u001b[49m\u001b[43mcurried\u001b[49m\u001b[43m,\u001b[49m\u001b[43m \u001b[49m\u001b[43mna_action\u001b[49m\u001b[43m=\u001b[49m\u001b[43maction\u001b[49m\u001b[43m,\u001b[49m\u001b[43m \u001b[49m\u001b[43mconvert\u001b[49m\u001b[43m=\u001b[49m\u001b[38;5;28;43mself\u001b[39;49m\u001b[43m.\u001b[49m\u001b[43mconvert_dtype\u001b[49m\n\u001b[32m   1509\u001b[39m \u001b[43m\u001b[49m\u001b[43m)\u001b[49m\n\u001b[32m   1511\u001b[39m \u001b[38;5;28;01mif\u001b[39;00m \u001b[38;5;28mlen\u001b[39m(mapped) \u001b[38;5;129;01mand\u001b[39;00m \u001b[38;5;28misinstance\u001b[39m(mapped[\u001b[32m0\u001b[39m], ABCSeries):\n\u001b[32m   1512\u001b[39m     \u001b[38;5;66;03m# GH#43986 Need to do list(mapped) in order to get treated as nested\u001b[39;00m\n\u001b[32m   1513\u001b[39m     \u001b[38;5;66;03m#  See also GH#25959 regarding EA support\u001b[39;00m\n\u001b[32m   1514\u001b[39m     \u001b[38;5;28;01mreturn\u001b[39;00m obj._constructor_expanddim(\u001b[38;5;28mlist\u001b[39m(mapped), index=obj.index)\n",
      "\u001b[36mFile \u001b[39m\u001b[32m~\\AppData\\Roaming\\Python\\Python313\\site-packages\\pandas\\core\\base.py:921\u001b[39m, in \u001b[36mIndexOpsMixin._map_values\u001b[39m\u001b[34m(self, mapper, na_action, convert)\u001b[39m\n\u001b[32m    918\u001b[39m \u001b[38;5;28;01mif\u001b[39;00m \u001b[38;5;28misinstance\u001b[39m(arr, ExtensionArray):\n\u001b[32m    919\u001b[39m     \u001b[38;5;28;01mreturn\u001b[39;00m arr.map(mapper, na_action=na_action)\n\u001b[32m--> \u001b[39m\u001b[32m921\u001b[39m \u001b[38;5;28;01mreturn\u001b[39;00m \u001b[43malgorithms\u001b[49m\u001b[43m.\u001b[49m\u001b[43mmap_array\u001b[49m\u001b[43m(\u001b[49m\u001b[43marr\u001b[49m\u001b[43m,\u001b[49m\u001b[43m \u001b[49m\u001b[43mmapper\u001b[49m\u001b[43m,\u001b[49m\u001b[43m \u001b[49m\u001b[43mna_action\u001b[49m\u001b[43m=\u001b[49m\u001b[43mna_action\u001b[49m\u001b[43m,\u001b[49m\u001b[43m \u001b[49m\u001b[43mconvert\u001b[49m\u001b[43m=\u001b[49m\u001b[43mconvert\u001b[49m\u001b[43m)\u001b[49m\n",
      "\u001b[36mFile \u001b[39m\u001b[32m~\\AppData\\Roaming\\Python\\Python313\\site-packages\\pandas\\core\\algorithms.py:1743\u001b[39m, in \u001b[36mmap_array\u001b[39m\u001b[34m(arr, mapper, na_action, convert)\u001b[39m\n\u001b[32m   1741\u001b[39m values = arr.astype(\u001b[38;5;28mobject\u001b[39m, copy=\u001b[38;5;28;01mFalse\u001b[39;00m)\n\u001b[32m   1742\u001b[39m \u001b[38;5;28;01mif\u001b[39;00m na_action \u001b[38;5;129;01mis\u001b[39;00m \u001b[38;5;28;01mNone\u001b[39;00m:\n\u001b[32m-> \u001b[39m\u001b[32m1743\u001b[39m     \u001b[38;5;28;01mreturn\u001b[39;00m \u001b[43mlib\u001b[49m\u001b[43m.\u001b[49m\u001b[43mmap_infer\u001b[49m\u001b[43m(\u001b[49m\u001b[43mvalues\u001b[49m\u001b[43m,\u001b[49m\u001b[43m \u001b[49m\u001b[43mmapper\u001b[49m\u001b[43m,\u001b[49m\u001b[43m \u001b[49m\u001b[43mconvert\u001b[49m\u001b[43m=\u001b[49m\u001b[43mconvert\u001b[49m\u001b[43m)\u001b[49m\n\u001b[32m   1744\u001b[39m \u001b[38;5;28;01melse\u001b[39;00m:\n\u001b[32m   1745\u001b[39m     \u001b[38;5;28;01mreturn\u001b[39;00m lib.map_infer_mask(\n\u001b[32m   1746\u001b[39m         values, mapper, mask=isna(values).view(np.uint8), convert=convert\n\u001b[32m   1747\u001b[39m     )\n",
      "\u001b[36mFile \u001b[39m\u001b[32mlib.pyx:2972\u001b[39m, in \u001b[36mpandas._libs.lib.map_infer\u001b[39m\u001b[34m()\u001b[39m\n",
      "\u001b[36mFile \u001b[39m\u001b[32m~\\AppData\\Roaming\\Python\\Python313\\site-packages\\pandas\\core\\series.py:584\u001b[39m, in \u001b[36mSeries.__init__\u001b[39m\u001b[34m(self, data, index, dtype, name, copy, fastpath)\u001b[39m\n\u001b[32m    582\u001b[39m         data = data.copy()\n\u001b[32m    583\u001b[39m \u001b[38;5;28;01melse\u001b[39;00m:\n\u001b[32m--> \u001b[39m\u001b[32m584\u001b[39m     data = \u001b[43msanitize_array\u001b[49m\u001b[43m(\u001b[49m\u001b[43mdata\u001b[49m\u001b[43m,\u001b[49m\u001b[43m \u001b[49m\u001b[43mindex\u001b[49m\u001b[43m,\u001b[49m\u001b[43m \u001b[49m\u001b[43mdtype\u001b[49m\u001b[43m,\u001b[49m\u001b[43m \u001b[49m\u001b[43mcopy\u001b[49m\u001b[43m)\u001b[49m\n\u001b[32m    586\u001b[39m     manager = _get_option(\u001b[33m\"\u001b[39m\u001b[33mmode.data_manager\u001b[39m\u001b[33m\"\u001b[39m, silent=\u001b[38;5;28;01mTrue\u001b[39;00m)\n\u001b[32m    587\u001b[39m     \u001b[38;5;28;01mif\u001b[39;00m manager == \u001b[33m\"\u001b[39m\u001b[33mblock\u001b[39m\u001b[33m\"\u001b[39m:\n",
      "\u001b[36mFile \u001b[39m\u001b[32m~\\AppData\\Roaming\\Python\\Python313\\site-packages\\pandas\\core\\construction.py:654\u001b[39m, in \u001b[36msanitize_array\u001b[39m\u001b[34m(data, index, dtype, copy, allow_2d)\u001b[39m\n\u001b[32m    651\u001b[39m     subarr = _try_cast(data, dtype, copy)\n\u001b[32m    653\u001b[39m \u001b[38;5;28;01melse\u001b[39;00m:\n\u001b[32m--> \u001b[39m\u001b[32m654\u001b[39m     subarr = \u001b[43mmaybe_convert_platform\u001b[49m\u001b[43m(\u001b[49m\u001b[43mdata\u001b[49m\u001b[43m)\u001b[49m\n\u001b[32m    655\u001b[39m     \u001b[38;5;28;01mif\u001b[39;00m subarr.dtype == \u001b[38;5;28mobject\u001b[39m:\n\u001b[32m    656\u001b[39m         subarr = cast(np.ndarray, subarr)\n",
      "\u001b[36mFile \u001b[39m\u001b[32m~\\AppData\\Roaming\\Python\\Python313\\site-packages\\pandas\\core\\dtypes\\cast.py:138\u001b[39m, in \u001b[36mmaybe_convert_platform\u001b[39m\u001b[34m(values)\u001b[39m\n\u001b[32m    136\u001b[39m \u001b[38;5;28;01mif\u001b[39;00m arr.dtype == _dtype_obj:\n\u001b[32m    137\u001b[39m     arr = cast(np.ndarray, arr)\n\u001b[32m--> \u001b[39m\u001b[32m138\u001b[39m     arr = \u001b[43mlib\u001b[49m\u001b[43m.\u001b[49m\u001b[43mmaybe_convert_objects\u001b[49m\u001b[43m(\u001b[49m\u001b[43marr\u001b[49m\u001b[43m)\u001b[49m\n\u001b[32m    140\u001b[39m \u001b[38;5;28;01mreturn\u001b[39;00m arr\n",
      "\u001b[36mFile \u001b[39m\u001b[32mlib.pyx:2543\u001b[39m, in \u001b[36mpandas._libs.lib.maybe_convert_objects\u001b[39m\u001b[34m()\u001b[39m\n",
      "\u001b[36mFile \u001b[39m\u001b[32m~\\AppData\\Roaming\\Python\\Python313\\site-packages\\numpy\\_core\\numeric.py:290\u001b[39m, in \u001b[36mfull\u001b[39m\u001b[34m(shape, fill_value, dtype, order, device, like)\u001b[39m\n\u001b[32m    284\u001b[39m \u001b[38;5;28;01mdef\u001b[39;00m\u001b[38;5;250m \u001b[39m\u001b[34m_full_dispatcher\u001b[39m(\n\u001b[32m    285\u001b[39m     shape, fill_value, dtype=\u001b[38;5;28;01mNone\u001b[39;00m, order=\u001b[38;5;28;01mNone\u001b[39;00m, *, device=\u001b[38;5;28;01mNone\u001b[39;00m, like=\u001b[38;5;28;01mNone\u001b[39;00m\n\u001b[32m    286\u001b[39m ):\n\u001b[32m    287\u001b[39m     \u001b[38;5;28;01mreturn\u001b[39;00m(like,)\n\u001b[32m--> \u001b[39m\u001b[32m290\u001b[39m \u001b[38;5;129m@finalize_array_function_like\u001b[39m\n\u001b[32m    291\u001b[39m \u001b[38;5;129m@set_module\u001b[39m(\u001b[33m'\u001b[39m\u001b[33mnumpy\u001b[39m\u001b[33m'\u001b[39m)\n\u001b[32m    292\u001b[39m \u001b[38;5;28;01mdef\u001b[39;00m\u001b[38;5;250m \u001b[39m\u001b[34mfull\u001b[39m(shape, fill_value, dtype=\u001b[38;5;28;01mNone\u001b[39;00m, order=\u001b[33m'\u001b[39m\u001b[33mC\u001b[39m\u001b[33m'\u001b[39m, *, device=\u001b[38;5;28;01mNone\u001b[39;00m, like=\u001b[38;5;28;01mNone\u001b[39;00m):\n\u001b[32m    293\u001b[39m \u001b[38;5;250m    \u001b[39m\u001b[33;03m\"\"\"\u001b[39;00m\n\u001b[32m    294\u001b[39m \u001b[33;03m    Return a new array of given shape and type, filled with `fill_value`.\u001b[39;00m\n\u001b[32m    295\u001b[39m \n\u001b[32m   (...)\u001b[39m\u001b[32m    342\u001b[39m \n\u001b[32m    343\u001b[39m \u001b[33;03m    \"\"\"\u001b[39;00m\n\u001b[32m    344\u001b[39m     \u001b[38;5;28;01mif\u001b[39;00m like \u001b[38;5;129;01mis\u001b[39;00m \u001b[38;5;129;01mnot\u001b[39;00m \u001b[38;5;28;01mNone\u001b[39;00m:\n",
      "\u001b[31mKeyboardInterrupt\u001b[39m: "
     ]
    }
   ],
   "source": [
    "# 座標整形：gx, gy（左右平均）を作成\n",
    "def parse_coord(coord_str):\n",
    "    try:\n",
    "        x, y = ast.literal_eval(coord_str)\n",
    "        return float(x), float(y)\n",
    "    except:\n",
    "        return np.nan, np.nan\n",
    "\n",
    "eye_df[[\"lx\", \"ly\"]] = eye_df[\"left_gaze_point_on_display_area\"].apply(parse_coord).apply(pd.Series)\n",
    "eye_df[[\"rx\", \"ry\"]] = eye_df[\"right_gaze_point_on_display_area\"].apply(parse_coord).apply(pd.Series)\n",
    "eye_df[\"gx\"] = eye_df[[\"lx\", \"rx\"]].mean(axis=1)\n",
    "eye_df[\"gy\"] = eye_df[[\"ly\", \"ry\"]].mean(axis=1)\n",
    "\n",
    "# validityの追加\n",
    "eye_df[\"validity_sum\"] = eye_df[\"left_gaze_point_validity\"] + eye_df[\"right_gaze_point_validity\"]\n"
   ]
  },
  {
   "cell_type": "code",
   "execution_count": null,
   "id": "c7742199",
   "metadata": {},
   "outputs": [],
   "source": [
    "# Tobii出力データのエポック時間とhh:mm:ssの追加\n",
    "\n",
    "# 1. datetime型に変換\n",
    "eye_df[\"realtime\"] = pd.to_datetime(eye_df[\"realtime\"], format=\"%Y/%m/%d %H:%M:%S.%f\")\n",
    "eye_df[\"realtime\"] = eye_df[\"realtime\"].dt.tz_localize(\"Asia/Tokyo\")\n",
    "\n",
    "# 2. エポック秒（float型 or 整数型）\n",
    "eye_df[\"epoch_sec\"] = eye_df[\"realtime\"].astype(\"int64\") / 10**9  # 小数点付き\n",
    "\n",
    "\n",
    "# 3. hh:mm:ss.000 形式の列を追加\n",
    "eye_df[\"hhmmss\"] = eye_df[\"realtime\"].dt.strftime(\"%H:%M:%S.%f\").str.slice(0, 12)\n"
   ]
  },
  {
   "cell_type": "code",
   "execution_count": null,
   "id": "2134c2d5",
   "metadata": {},
   "outputs": [],
   "source": [
    "# Imagesがある行だけに加えて、.started列が両方とも有効な行だけ使う\n",
    "valid_mask = (\n",
    "    psychopy_df[\"Images\"].notna() &\n",
    "    psychopy_df[\"image.started\"].notna() &\n",
    "    psychopy_df[\"hyouka.started\"].notna()\n",
    ")\n",
    "\n",
    "# 抽出\n",
    "image_rows = psychopy_df[valid_mask].reset_index(drop=True)\n"
   ]
  },
  {
   "cell_type": "code",
   "execution_count": null,
   "id": "96af2ac9",
   "metadata": {},
   "outputs": [],
   "source": [
    "# PsychoPyログから開始時刻文字列を取得\n",
    "exp_start_str = psychopy_df[\"expStart\"].dropna().iloc[0]\n",
    "\n",
    "# 文字列を datetime型に変換（タイムゾーン付き）\n",
    "exp_start_dt = datetime.strptime(exp_start_str, \"%Y-%m-%d %Hh%M.%S.%f %z\")\n",
    "\n",
    "# UTC基準のUNIX時間（float秒）に変換\n",
    "exp_start_epoch = exp_start_dt.astimezone(timezone.utc).timestamp()\n"
   ]
  },
  {
   "cell_type": "code",
   "execution_count": null,
   "id": "9ca9709e",
   "metadata": {},
   "outputs": [],
   "source": [
    "# trialdfの作成\n",
    "trial_df = image_rows[[\"Images\"]].copy()\n",
    "trial_df[\"trial\"] = trial_df.index\n",
    "\n",
    "for col in [\"image.started\", \"hyouka.started\"]:\n",
    "    base = col.split(\".\")[0]\n",
    "    relative_sec = image_rows[col].astype(float)\n",
    "\n",
    "    trial_df[f\"{base}_epoch\"] = exp_start_epoch + relative_sec\n",
    "    trial_df[f\"{base}_str\"] = pd.to_datetime(\n",
    "        trial_df[f\"{base}_epoch\"], unit=\"s\", utc=True\n",
    "    ).dt.tz_convert(\"Asia/Tokyo\").dt.strftime(\"%H:%M:%S.%f\").str[:12]\n"
   ]
  },
  {
   "cell_type": "code",
   "execution_count": null,
   "id": "1b8f69a8",
   "metadata": {},
   "outputs": [],
   "source": [
    "# 初期化：視線が属さない行は -1 にしておく\n",
    "eye_df[\"trial\"] = -1\n",
    "\n",
    "# trial_df の各行（試行）についてループ\n",
    "for _, row in trial_df.iterrows():\n",
    "    trial_num = row[\"trial\"]\n",
    "    start_epoch = row[\"image_epoch\"]\n",
    "    end_epoch = row[\"hyouka_epoch\"]\n",
    "\n",
    "    # 視線データの中で、この試行の提示～評価前に含まれるものを選ぶ\n",
    "    mask = (eye_df[\"epoch_sec\"] >= start_epoch) & (eye_df[\"epoch_sec\"] < end_epoch)\n",
    "\n",
    "    # 条件に合う行に trial 番号を付ける\n",
    "    eye_df.loc[mask, \"trial\"] = trial_num\n",
    "\n",
    "# 抽出したい主要列（trial列を後で付けるなら省略可）\n",
    "columns = [\n",
    "    \"gx\", \"gy\", \"epoch_sec\", \"hhmmss\",\"validity_sum\",\"trial\"\n",
    "]\n",
    "\n",
    "\n",
    "# 再構成\n",
    "eye_df = eye_df[columns].copy()\n",
    "\n"
   ]
  },
  {
   "cell_type": "code",
   "execution_count": null,
   "id": "50dc2392",
   "metadata": {},
   "outputs": [],
   "source": [
    "# 1. pose.started列の最初の数値（開始相対秒）\n",
    "pose_start_sec = float(psychopy_df[\"pose.started\"].dropna().iloc[0])\n",
    "\n",
    "# 2. pose.stopped列の最後の数値（終了相対秒）\n",
    "pose_stop_sec = float(psychopy_df[\"pose.stopped\"].dropna().iloc[-1])\n",
    "\n",
    "# 3. UNIX時間に変換\n",
    "pose_start_epoch = exp_start_epoch + pose_start_sec\n",
    "pose_stop_epoch = exp_start_epoch + pose_stop_sec\n",
    "\n",
    "# 4. 実験課題実施中の視線データを抽出\n",
    "eye_exp = eye_df[(eye_df[\"epoch_sec\"] >= pose_start_epoch) & (eye_df[\"epoch_sec\"] <= pose_stop_epoch)]\n",
    "\n",
    "# 5. サンプル数・時間・Hz\n",
    "samples_exp = len(eye_exp)\n",
    "duration_exp = pose_stop_epoch - pose_start_epoch\n",
    "hz_exp = samples_exp / duration_exp if duration_exp > 0 else float(\"nan\")\n"
   ]
  },
  {
   "cell_type": "code",
   "execution_count": null,
   "id": "e733ec13",
   "metadata": {},
   "outputs": [],
   "source": [
    "# trial が有効な視線だけ使用\n",
    "eye_trial = eye_df[eye_df[\"trial\"] >= 0]\n",
    "\n",
    "# 各試行ごとに画像提示中の視線サンプル数とHzを算出\n",
    "sampling_df = eye_trial.groupby(\"trial\").agg(\n",
    "    samples=(\"epoch_sec\", \"count\"),\n",
    "    start_sec=(\"epoch_sec\", \"min\"),\n",
    "    end_sec=(\"epoch_sec\", \"max\")\n",
    ").reset_index()\n",
    "sampling_df[\"duration_sec\"] = sampling_df[\"end_sec\"] - sampling_df[\"start_sec\"]\n",
    "sampling_df[\"sampling_rate_Hz\"] = sampling_df[\"samples\"] / sampling_df[\"duration_sec\"]\n"
   ]
  },
  {
   "cell_type": "code",
   "execution_count": null,
   "id": "d7cf3105",
   "metadata": {},
   "outputs": [
    {
     "name": "stdout",
     "output_type": "stream",
     "text": [
      "[実験課題中 実測ベース]\n",
      "・記録された視線サンプル数: 51534 点\n",
      "・記録実時間（視線の実データ間）: 599.99 秒\n",
      "・実サンプリング周波数: 85.89 Hz\n",
      "\n"
     ]
    }
   ],
   "source": [
    "\n",
    "# 実験課題実施中の視線データを抽出\n",
    "eye_df_trimmed = eye_df[\n",
    "    (eye_df[\"epoch_sec\"] >= pose_start_epoch) &\n",
    "    (eye_df[\"epoch_sec\"] <= pose_stop_epoch)\n",
    "].copy()\n",
    "\n",
    "# 実際に得られた視線データの期間（有効な最初と最後のタイムスタンプを使う）\n",
    "start = eye_df_trimmed[\"epoch_sec\"].min()\n",
    "end = eye_df_trimmed[\"epoch_sec\"].max()\n",
    "duration_actual = end - start\n",
    "\n",
    "# サンプル数\n",
    "samples = len(eye_df_trimmed)\n",
    "\n",
    "# 正味のサンプリング周波数（Hz）\n",
    "hz_actual = samples / duration_actual if duration_actual > 0 else float(\"nan\")\n",
    "\n",
    "# 表示\n",
    "print(f\"[実験課題中 実測ベース]\")\n",
    "print(f\"・記録された視線サンプル数: {samples} 点\")\n",
    "print(f\"・記録実時間（視線の実データ間）: {duration_actual:.2f} 秒\")\n",
    "print(f\"・実サンプリング周波数: {hz_actual:.2f} Hz\")\n",
    "\n",
    "print()"
   ]
  },
  {
   "cell_type": "code",
   "execution_count": null,
   "id": "1e95515a",
   "metadata": {},
   "outputs": [],
   "source": [
    "# サマリー情報を1行のデータフレームとして作成\n",
    "exp_summary_df = pd.DataFrame([{\n",
    "    \"participant\": participant_id,\n",
    "    \"exp_num\": exp_num,\n",
    "    \"pose_start_epoch\": pose_start_epoch,\n",
    "    \"pose_stop_epoch\": pose_stop_epoch,\n",
    "    \"duration_nominal\": pose_stop_epoch - pose_start_epoch,  # 理論上の時間\n",
    "    \"samples\": samples,\n",
    "    \"duration_actual\": duration_actual,\n",
    "    \"sampling_rate_Hz\": hz_actual\n",
    "}])"
   ]
  },
  {
   "cell_type": "code",
   "execution_count": null,
   "id": "f68402b2",
   "metadata": {},
   "outputs": [],
   "source": [
    "# debug用の出力\n",
    "# print(\"===========================\")\n",
    "# print(eye_df.head(10))\n",
    "# print(\"===========================\")\n",
    "# print(trial_df.head(10))\n",
    "# print(\"===========================\")    \n",
    "# print(sampling_df.head(10))\n",
    "# print(\"===========================\")\n",
    "# print(exp_summary_df.head(10))\n",
    "# print(\"===========================\")\n"
   ]
  },
  {
   "cell_type": "code",
   "execution_count": null,
   "id": "1c23254a",
   "metadata": {},
   "outputs": [
    {
     "name": "stdout",
     "output_type": "stream",
     "text": [
      "これらのDFはid019-003として保存します。\n"
     ]
    }
   ],
   "source": [
    "prefix = f\"{participant_id}-{exp_num}\"\n",
    "print(f\"これらのDFは{prefix}として保存します。\")\n",
    "# 1. 視線データの保存\n",
    "eye_df.to_csv(f\"{folder}/eye_df_{prefix}.csv\", index=False, float_format=\"%.6f\", encoding=\"utf-8-sig\")\n",
    "\n",
    "# 2. 試行データの保存\n",
    "trial_df.to_csv(f\"{folder}/trial_df_{prefix}.csv\", index=False, float_format=\"%.6f\", encoding=\"utf-8-sig\")\n",
    "\n",
    "# 3. サンプリング統計の保存\n",
    "sampling_df.to_csv(f\"{folder}/sampling_df_{prefix}.csv\", index=False, float_format=\"%.6f\", encoding=\"utf-8-sig\")"
   ]
  },
  {
   "cell_type": "code",
   "execution_count": null,
   "id": "96a3bfdd",
   "metadata": {},
   "outputs": [],
   "source": [
    "# ファイル名\n",
    "summary_path = f\"{folder}/exp_summary_all.csv\"\n",
    "\n",
    "# ヘッダー付きで新規保存 or ヘッダー無しで追記\n",
    "if not os.path.exists(summary_path):\n",
    "    exp_summary_df.to_csv(summary_path, index=False, float_format=\"%.6f\", encoding=\"utf-8-sig\")\n",
    "else:\n",
    "    exp_summary_df.to_csv(summary_path, mode='a', header=False, index=False, float_format=\"%.6f\", encoding=\"utf-8-sig\")\n"
   ]
  }
 ],
 "metadata": {
  "kernelspec": {
   "display_name": "Python 3",
   "language": "python",
   "name": "python3"
  },
  "language_info": {
   "codemirror_mode": {
    "name": "ipython",
    "version": 3
   },
   "file_extension": ".py",
   "mimetype": "text/x-python",
   "name": "python",
   "nbconvert_exporter": "python",
   "pygments_lexer": "ipython3",
   "version": "3.11.9"
  }
 },
 "nbformat": 4,
 "nbformat_minor": 5
}
