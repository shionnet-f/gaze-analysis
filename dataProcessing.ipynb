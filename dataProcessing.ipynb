{
 "cells": [
  {
   "cell_type": "markdown",
   "id": "58de3bec",
   "metadata": {},
   "source": [
    "# 各DFの意味\n",
    "## <eye_df>\n",
    "実験課題開始から終了までの約10分の視線データ\n",
    "\n",
    "### ・gx,gy\n",
    "視線のディスプレイ上重心座標\n",
    "### ・epoch_sec,h:mm:ss\n",
    "各視線データ計測時のUNIX時間及びリアルタイム\n",
    "### ・validity_sum\n",
    "各視線データの左右の目の有効性の和\n",
    "(0:どちらもNaN,1:どちらかNaN,2:どちらもデータが取れた)\n",
    "### ・trial\n",
    "各視線データがどの画像提示中に記録されたものかを表す\n",
    "(-1:画像提示以外の時間)\n",
    "## <trial_df>\n",
    "実験課題実施中の行動データ\n",
    "\n",
    "### ・Images\n",
    "提示画像名\n",
    "### ・trial\n",
    "各画像のナンバリング\n",
    "### ・image_epoch,image_str\n",
    "画像提示開始時刻のUNIX時間及びリアルタイム\n",
    "### ・hyouka_epoch,hyouka_str\n",
    "画像評価開始時刻のUNIX時間及びリアルタイム\n",
    "## <sampling_df>\n",
    "各画像のサンプリングレート\n",
    "\n",
    "### ・trial  \n",
    "各画像のナンバリング\n",
    "### ・samples\n",
    "各画像提示中の視線データ数\n",
    "### ・start_sec\n",
    "画像提示開始時刻のUNIX時間\n",
    "### ・end_sec\n",
    "画像評価開始時刻\n",
    "### ・duration_sec  \n",
    "画像提示秒\n",
    "### ・sampling_rate_Hz\n",
    "各画像のサンプリングレート"
   ]
  },
  {
   "cell_type": "code",
   "execution_count": null,
   "id": "09d0282e",
   "metadata": {},
   "outputs": [],
   "source": []
  },
  {
   "cell_type": "code",
   "execution_count": 20,
   "id": "93a0eaac",
   "metadata": {},
   "outputs": [],
   "source": [
    "import pandas as pd\n",
    "import numpy as np\n",
    "import ast\n",
    "from datetime import datetime,timezone\n",
    "import os\n",
    "\n",
    "\n",
    "\n",
    "# pd.set_option('display.max_columns', None)\n",
    "# pd.set_option('display.max_rows', None)"
   ]
  },
  {
   "cell_type": "code",
   "execution_count": 21,
   "id": "93ecf875",
   "metadata": {},
   "outputs": [],
   "source": [
    "# # yyyy/mm/dd h:mm:ss.000\n",
    "# 被験者IDを指定（例：id001）\n",
    "participant_id = \"id018\"\n",
    "exp_num = \"002\"\n",
    "folder = \"exported_csv\"\n",
    "\n",
    "# ファイル読み込み\n",
    "psychopy_path = f\"PsychoData/{participant_id}/{exp_num}.csv\"\n",
    "eye_path = f\"tobiiData/aha-{participant_id}-{exp_num}.csv\"\n",
    "\n",
    "eye_df = pd.read_csv(eye_path)\n",
    "psychopy_df = pd.read_csv(psychopy_path)\n"
   ]
  },
  {
   "cell_type": "code",
   "execution_count": 22,
   "id": "406807c3",
   "metadata": {},
   "outputs": [],
   "source": [
    "# 座標整形：gx, gy（左右平均）を作成\n",
    "def parse_coord(coord_str):\n",
    "    try:\n",
    "        x, y = ast.literal_eval(coord_str)\n",
    "        return float(x), float(y)\n",
    "    except:\n",
    "        return np.nan, np.nan\n",
    "\n",
    "eye_df[[\"lx\", \"ly\"]] = eye_df[\"left_gaze_point_on_display_area\"].apply(parse_coord).apply(pd.Series)\n",
    "eye_df[[\"rx\", \"ry\"]] = eye_df[\"right_gaze_point_on_display_area\"].apply(parse_coord).apply(pd.Series)\n",
    "eye_df[\"gx\"] = eye_df[[\"lx\", \"rx\"]].mean(axis=1)\n",
    "eye_df[\"gy\"] = eye_df[[\"ly\", \"ry\"]].mean(axis=1)\n",
    "\n",
    "# validityの追加\n",
    "eye_df[\"validity_sum\"] = eye_df[\"left_gaze_point_validity\"] + eye_df[\"right_gaze_point_validity\"]\n"
   ]
  },
  {
   "cell_type": "code",
   "execution_count": 23,
   "id": "c7742199",
   "metadata": {},
   "outputs": [
    {
     "ename": "KeyboardInterrupt",
     "evalue": "",
     "output_type": "error",
     "traceback": [
      "\u001b[31m---------------------------------------------------------------------------\u001b[39m",
      "\u001b[31mKeyboardInterrupt\u001b[39m                         Traceback (most recent call last)",
      "\u001b[36mCell\u001b[39m\u001b[36m \u001b[39m\u001b[32mIn[23]\u001b[39m\u001b[32m, line 12\u001b[39m\n\u001b[32m      8\u001b[39m eye_df[\u001b[33m\"\u001b[39m\u001b[33mepoch_sec\u001b[39m\u001b[33m\"\u001b[39m] = eye_df[\u001b[33m\"\u001b[39m\u001b[33mrealtime\u001b[39m\u001b[33m\"\u001b[39m].astype(\u001b[33m\"\u001b[39m\u001b[33mint64\u001b[39m\u001b[33m\"\u001b[39m) / \u001b[32m10\u001b[39m**\u001b[32m9\u001b[39m  \u001b[38;5;66;03m# 小数点付き\u001b[39;00m\n\u001b[32m     11\u001b[39m \u001b[38;5;66;03m# 3. hh:mm:ss.000 形式の列を追加\u001b[39;00m\n\u001b[32m---> \u001b[39m\u001b[32m12\u001b[39m eye_df[\u001b[33m\"\u001b[39m\u001b[33mhhmmss\u001b[39m\u001b[33m\"\u001b[39m] = \u001b[43meye_df\u001b[49m\u001b[43m[\u001b[49m\u001b[33;43m\"\u001b[39;49m\u001b[33;43mrealtime\u001b[39;49m\u001b[33;43m\"\u001b[39;49m\u001b[43m]\u001b[49m\u001b[43m.\u001b[49m\u001b[43mdt\u001b[49m\u001b[43m.\u001b[49m\u001b[43mstrftime\u001b[49m\u001b[43m(\u001b[49m\u001b[33;43m\"\u001b[39;49m\u001b[33;43m%\u001b[39;49m\u001b[33;43mH:\u001b[39;49m\u001b[33;43m%\u001b[39;49m\u001b[33;43mM:\u001b[39;49m\u001b[33;43m%\u001b[39;49m\u001b[33;43mS.\u001b[39;49m\u001b[38;5;132;43;01m%f\u001b[39;49;00m\u001b[33;43m\"\u001b[39;49m\u001b[43m)\u001b[49m.str.slice(\u001b[32m0\u001b[39m, \u001b[32m12\u001b[39m)\n",
      "\u001b[36mFile \u001b[39m\u001b[32m~\\AppData\\Roaming\\Python\\Python313\\site-packages\\pandas\\core\\accessor.py:112\u001b[39m, in \u001b[36mPandasDelegate._add_delegate_accessors.<locals>._create_delegator_method.<locals>.f\u001b[39m\u001b[34m(self, *args, **kwargs)\u001b[39m\n\u001b[32m    111\u001b[39m \u001b[38;5;28;01mdef\u001b[39;00m\u001b[38;5;250m \u001b[39m\u001b[34mf\u001b[39m(\u001b[38;5;28mself\u001b[39m, *args, **kwargs):\n\u001b[32m--> \u001b[39m\u001b[32m112\u001b[39m     \u001b[38;5;28;01mreturn\u001b[39;00m \u001b[38;5;28;43mself\u001b[39;49m\u001b[43m.\u001b[49m\u001b[43m_delegate_method\u001b[49m\u001b[43m(\u001b[49m\u001b[43mname\u001b[49m\u001b[43m,\u001b[49m\u001b[43m \u001b[49m\u001b[43m*\u001b[49m\u001b[43margs\u001b[49m\u001b[43m,\u001b[49m\u001b[43m \u001b[49m\u001b[43m*\u001b[49m\u001b[43m*\u001b[49m\u001b[43mkwargs\u001b[49m\u001b[43m)\u001b[49m\n",
      "\u001b[36mFile \u001b[39m\u001b[32m~\\AppData\\Roaming\\Python\\Python313\\site-packages\\pandas\\core\\indexes\\accessors.py:132\u001b[39m, in \u001b[36mProperties._delegate_method\u001b[39m\u001b[34m(self, name, *args, **kwargs)\u001b[39m\n\u001b[32m    129\u001b[39m values = \u001b[38;5;28mself\u001b[39m._get_values()\n\u001b[32m    131\u001b[39m method = \u001b[38;5;28mgetattr\u001b[39m(values, name)\n\u001b[32m--> \u001b[39m\u001b[32m132\u001b[39m result = \u001b[43mmethod\u001b[49m\u001b[43m(\u001b[49m\u001b[43m*\u001b[49m\u001b[43margs\u001b[49m\u001b[43m,\u001b[49m\u001b[43m \u001b[49m\u001b[43m*\u001b[49m\u001b[43m*\u001b[49m\u001b[43mkwargs\u001b[49m\u001b[43m)\u001b[49m\n\u001b[32m    134\u001b[39m \u001b[38;5;28;01mif\u001b[39;00m \u001b[38;5;129;01mnot\u001b[39;00m is_list_like(result):\n\u001b[32m    135\u001b[39m     \u001b[38;5;28;01mreturn\u001b[39;00m result\n",
      "\u001b[36mFile \u001b[39m\u001b[32m~\\AppData\\Roaming\\Python\\Python313\\site-packages\\pandas\\core\\indexes\\datetimes.py:278\u001b[39m, in \u001b[36mDatetimeIndex.strftime\u001b[39m\u001b[34m(self, date_format)\u001b[39m\n\u001b[32m    276\u001b[39m \u001b[38;5;129m@doc\u001b[39m(DatetimeArray.strftime)\n\u001b[32m    277\u001b[39m \u001b[38;5;28;01mdef\u001b[39;00m\u001b[38;5;250m \u001b[39m\u001b[34mstrftime\u001b[39m(\u001b[38;5;28mself\u001b[39m, date_format) -> Index:\n\u001b[32m--> \u001b[39m\u001b[32m278\u001b[39m     arr = \u001b[38;5;28;43mself\u001b[39;49m\u001b[43m.\u001b[49m\u001b[43m_data\u001b[49m\u001b[43m.\u001b[49m\u001b[43mstrftime\u001b[49m\u001b[43m(\u001b[49m\u001b[43mdate_format\u001b[49m\u001b[43m)\u001b[49m\n\u001b[32m    279\u001b[39m     \u001b[38;5;28;01mreturn\u001b[39;00m Index(arr, name=\u001b[38;5;28mself\u001b[39m.name, dtype=\u001b[38;5;28mobject\u001b[39m)\n",
      "\u001b[36mFile \u001b[39m\u001b[32m~\\AppData\\Roaming\\Python\\Python313\\site-packages\\pandas\\core\\arrays\\datetimelike.py:1791\u001b[39m, in \u001b[36mDatelikeOps.strftime\u001b[39m\u001b[34m(self, date_format)\u001b[39m\n\u001b[32m   1742\u001b[39m \u001b[38;5;129m@Substitution\u001b[39m(\n\u001b[32m   1743\u001b[39m     URL=\u001b[33m\"\u001b[39m\u001b[33mhttps://docs.python.org/3/library/datetime.html\u001b[39m\u001b[33m\"\u001b[39m\n\u001b[32m   1744\u001b[39m     \u001b[33m\"\u001b[39m\u001b[33m#strftime-and-strptime-behavior\u001b[39m\u001b[33m\"\u001b[39m\n\u001b[32m   1745\u001b[39m )\n\u001b[32m   1746\u001b[39m \u001b[38;5;28;01mdef\u001b[39;00m\u001b[38;5;250m \u001b[39m\u001b[34mstrftime\u001b[39m(\u001b[38;5;28mself\u001b[39m, date_format: \u001b[38;5;28mstr\u001b[39m) -> npt.NDArray[np.object_]:\n\u001b[32m   1747\u001b[39m \u001b[38;5;250m    \u001b[39m\u001b[33;03m\"\"\"\u001b[39;00m\n\u001b[32m   1748\u001b[39m \u001b[33;03m    Convert to Index using specified date_format.\u001b[39;00m\n\u001b[32m   1749\u001b[39m \n\u001b[32m   (...)\u001b[39m\u001b[32m   1789\u001b[39m \u001b[33;03m          dtype='object')\u001b[39;00m\n\u001b[32m   1790\u001b[39m \u001b[33;03m    \"\"\"\u001b[39;00m\n\u001b[32m-> \u001b[39m\u001b[32m1791\u001b[39m     result = \u001b[38;5;28;43mself\u001b[39;49m\u001b[43m.\u001b[49m\u001b[43m_format_native_types\u001b[49m\u001b[43m(\u001b[49m\u001b[43mdate_format\u001b[49m\u001b[43m=\u001b[49m\u001b[43mdate_format\u001b[49m\u001b[43m,\u001b[49m\u001b[43m \u001b[49m\u001b[43mna_rep\u001b[49m\u001b[43m=\u001b[49m\u001b[43mnp\u001b[49m\u001b[43m.\u001b[49m\u001b[43mnan\u001b[49m\u001b[43m)\u001b[49m\n\u001b[32m   1792\u001b[39m     \u001b[38;5;28;01mreturn\u001b[39;00m result.astype(\u001b[38;5;28mobject\u001b[39m, copy=\u001b[38;5;28;01mFalse\u001b[39;00m)\n",
      "\u001b[36mFile \u001b[39m\u001b[32m~\\AppData\\Roaming\\Python\\Python313\\site-packages\\pandas\\core\\arrays\\datetimes.py:751\u001b[39m, in \u001b[36mDatetimeArray._format_native_types\u001b[39m\u001b[34m(self, na_rep, date_format, **kwargs)\u001b[39m\n\u001b[32m    747\u001b[39m \u001b[38;5;28;01mif\u001b[39;00m date_format \u001b[38;5;129;01mis\u001b[39;00m \u001b[38;5;28;01mNone\u001b[39;00m \u001b[38;5;129;01mand\u001b[39;00m \u001b[38;5;28mself\u001b[39m._is_dates_only:\n\u001b[32m    748\u001b[39m     \u001b[38;5;66;03m# Only dates and no timezone: provide a default format\u001b[39;00m\n\u001b[32m    749\u001b[39m     date_format = \u001b[33m\"\u001b[39m\u001b[33m%\u001b[39m\u001b[33mY-\u001b[39m\u001b[33m%\u001b[39m\u001b[33mm-\u001b[39m\u001b[38;5;132;01m%d\u001b[39;00m\u001b[33m\"\u001b[39m\n\u001b[32m--> \u001b[39m\u001b[32m751\u001b[39m \u001b[38;5;28;01mreturn\u001b[39;00m \u001b[43mtslib\u001b[49m\u001b[43m.\u001b[49m\u001b[43mformat_array_from_datetime\u001b[49m\u001b[43m(\u001b[49m\n\u001b[32m    752\u001b[39m \u001b[43m    \u001b[49m\u001b[38;5;28;43mself\u001b[39;49m\u001b[43m.\u001b[49m\u001b[43masi8\u001b[49m\u001b[43m,\u001b[49m\u001b[43m \u001b[49m\u001b[43mtz\u001b[49m\u001b[43m=\u001b[49m\u001b[38;5;28;43mself\u001b[39;49m\u001b[43m.\u001b[49m\u001b[43mtz\u001b[49m\u001b[43m,\u001b[49m\u001b[43m \u001b[49m\u001b[38;5;28;43mformat\u001b[39;49m\u001b[43m=\u001b[49m\u001b[43mdate_format\u001b[49m\u001b[43m,\u001b[49m\u001b[43m \u001b[49m\u001b[43mna_rep\u001b[49m\u001b[43m=\u001b[49m\u001b[43mna_rep\u001b[49m\u001b[43m,\u001b[49m\u001b[43m \u001b[49m\u001b[43mreso\u001b[49m\u001b[43m=\u001b[49m\u001b[38;5;28;43mself\u001b[39;49m\u001b[43m.\u001b[49m\u001b[43m_creso\u001b[49m\n\u001b[32m    753\u001b[39m \u001b[43m\u001b[49m\u001b[43m)\u001b[49m\n",
      "\u001b[36mFile \u001b[39m\u001b[32mtslib.pyx:222\u001b[39m, in \u001b[36mpandas._libs.tslib.format_array_from_datetime\u001b[39m\u001b[34m()\u001b[39m\n",
      "\u001b[36mFile \u001b[39m\u001b[32mtimestamps.pyx:1488\u001b[39m, in \u001b[36mpandas._libs.tslibs.timestamps.Timestamp.strftime\u001b[39m\u001b[34m()\u001b[39m\n",
      "\u001b[36mFile \u001b[39m\u001b[32m~\\AppData\\Roaming\\Python\\Python313\\site-packages\\pytz\\tzinfo.py:430\u001b[39m, in \u001b[36mDstTzInfo.dst\u001b[39m\u001b[34m(self, dt, is_dst)\u001b[39m\n\u001b[32m    427\u001b[39m     \u001b[38;5;28;01melse\u001b[39;00m:\n\u001b[32m    428\u001b[39m         \u001b[38;5;28;01mreturn\u001b[39;00m \u001b[38;5;28mself\u001b[39m._utcoffset\n\u001b[32m--> \u001b[39m\u001b[32m430\u001b[39m \u001b[38;5;28;01mdef\u001b[39;00m\u001b[38;5;250m \u001b[39m\u001b[34mdst\u001b[39m(\u001b[38;5;28mself\u001b[39m, dt, is_dst=\u001b[38;5;28;01mNone\u001b[39;00m):\n\u001b[32m    431\u001b[39m \u001b[38;5;250m    \u001b[39m\u001b[33;03m'''See datetime.tzinfo.dst\u001b[39;00m\n\u001b[32m    432\u001b[39m \n\u001b[32m    433\u001b[39m \u001b[33;03m    The is_dst parameter may be used to remove ambiguity during DST\u001b[39;00m\n\u001b[32m   (...)\u001b[39m\u001b[32m    459\u001b[39m \n\u001b[32m    460\u001b[39m \u001b[33;03m    '''\u001b[39;00m\n\u001b[32m    461\u001b[39m     \u001b[38;5;28;01mif\u001b[39;00m dt \u001b[38;5;129;01mis\u001b[39;00m \u001b[38;5;28;01mNone\u001b[39;00m:\n",
      "\u001b[31mKeyboardInterrupt\u001b[39m: "
     ]
    }
   ],
   "source": [
    "# Tobii出力データのエポック時間とhh:mm:ssの追加\n",
    "\n",
    "# 1. datetime型に変換\n",
    "eye_df[\"realtime\"] = pd.to_datetime(eye_df[\"realtime\"], format=\"%Y/%m/%d %H:%M:%S.%f\")\n",
    "eye_df[\"realtime\"] = eye_df[\"realtime\"].dt.tz_localize(\"Asia/Tokyo\")\n",
    "\n",
    "# 2. エポック秒（float型 or 整数型）\n",
    "eye_df[\"epoch_sec\"] = eye_df[\"realtime\"].astype(\"int64\") / 10**9  # 小数点付き\n",
    "\n",
    "\n",
    "# 3. hh:mm:ss.000 形式の列を追加\n",
    "eye_df[\"hhmmss\"] = eye_df[\"realtime\"].dt.strftime(\"%H:%M:%S.%f\").str.slice(0, 12)\n"
   ]
  },
  {
   "cell_type": "code",
   "execution_count": null,
   "id": "2134c2d5",
   "metadata": {},
   "outputs": [],
   "source": [
    "# Imagesがある行だけに加えて、.started列が両方とも有効な行だけ使う\n",
    "valid_mask = (\n",
    "    psychopy_df[\"Images\"].notna() &\n",
    "    psychopy_df[\"image.started\"].notna() &\n",
    "    psychopy_df[\"hyouka.started\"].notna()\n",
    ")\n",
    "\n",
    "# 抽出\n",
    "image_rows = psychopy_df[valid_mask].reset_index(drop=True)\n"
   ]
  },
  {
   "cell_type": "code",
   "execution_count": null,
   "id": "96af2ac9",
   "metadata": {},
   "outputs": [],
   "source": [
    "# PsychoPyログから開始時刻文字列を取得\n",
    "exp_start_str = psychopy_df[\"expStart\"].dropna().iloc[0]\n",
    "\n",
    "# 文字列を datetime型に変換（タイムゾーン付き）\n",
    "exp_start_dt = datetime.strptime(exp_start_str, \"%Y-%m-%d %Hh%M.%S.%f %z\")\n",
    "\n",
    "# UTC基準のUNIX時間（float秒）に変換\n",
    "exp_start_epoch = exp_start_dt.astimezone(timezone.utc).timestamp()\n"
   ]
  },
  {
   "cell_type": "code",
   "execution_count": null,
   "id": "9ca9709e",
   "metadata": {},
   "outputs": [],
   "source": [
    "# trialdfの作成\n",
    "trial_df = image_rows[[\"Images\"]].copy()\n",
    "trial_df[\"trial\"] = trial_df.index\n",
    "\n",
    "for col in [\"image.started\", \"hyouka.started\"]:\n",
    "    base = col.split(\".\")[0]\n",
    "    relative_sec = image_rows[col].astype(float)\n",
    "\n",
    "    trial_df[f\"{base}_epoch\"] = exp_start_epoch + relative_sec\n",
    "    trial_df[f\"{base}_str\"] = pd.to_datetime(\n",
    "        trial_df[f\"{base}_epoch\"], unit=\"s\", utc=True\n",
    "    ).dt.tz_convert(\"Asia/Tokyo\").dt.strftime(\"%H:%M:%S.%f\").str[:12]\n"
   ]
  },
  {
   "cell_type": "code",
   "execution_count": null,
   "id": "1b8f69a8",
   "metadata": {},
   "outputs": [],
   "source": [
    "# 初期化：視線が属さない行は -1 にしておく\n",
    "eye_df[\"trial\"] = -1\n",
    "\n",
    "# trial_df の各行（試行）についてループ\n",
    "for _, row in trial_df.iterrows():\n",
    "    trial_num = row[\"trial\"]\n",
    "    start_epoch = row[\"image_epoch\"]\n",
    "    end_epoch = row[\"hyouka_epoch\"]\n",
    "\n",
    "    # 視線データの中で、この試行の提示～評価前に含まれるものを選ぶ\n",
    "    mask = (eye_df[\"epoch_sec\"] >= start_epoch) & (eye_df[\"epoch_sec\"] < end_epoch)\n",
    "\n",
    "    # 条件に合う行に trial 番号を付ける\n",
    "    eye_df.loc[mask, \"trial\"] = trial_num\n",
    "\n",
    "# 抽出したい主要列（trial列を後で付けるなら省略可）\n",
    "columns = [\n",
    "    \"gx\", \"gy\", \"epoch_sec\", \"hhmmss\",\"validity_sum\",\"trial\"\n",
    "]\n",
    "\n",
    "\n",
    "# 再構成\n",
    "eye_df = eye_df[columns].copy()\n",
    "\n"
   ]
  },
  {
   "cell_type": "code",
   "execution_count": null,
   "id": "50dc2392",
   "metadata": {},
   "outputs": [],
   "source": [
    "# 1. pose.started列の最初の数値（開始相対秒）\n",
    "pose_start_sec = float(psychopy_df[\"pose.started\"].dropna().iloc[0])\n",
    "\n",
    "# 2. pose.stopped列の最後の数値（終了相対秒）\n",
    "pose_stop_sec = float(psychopy_df[\"pose.stopped\"].dropna().iloc[-1])\n",
    "\n",
    "# 3. UNIX時間に変換\n",
    "pose_start_epoch = exp_start_epoch + pose_start_sec\n",
    "pose_stop_epoch = exp_start_epoch + pose_stop_sec\n",
    "\n",
    "# 4. 実験課題実施中の視線データを抽出\n",
    "eye_exp = eye_df[(eye_df[\"epoch_sec\"] >= pose_start_epoch) & (eye_df[\"epoch_sec\"] <= pose_stop_epoch)]\n",
    "\n",
    "# 5. サンプル数・時間・Hz\n",
    "samples_exp = len(eye_exp)\n",
    "duration_exp = pose_stop_epoch - pose_start_epoch\n",
    "hz_exp = samples_exp / duration_exp if duration_exp > 0 else float(\"nan\")\n"
   ]
  },
  {
   "cell_type": "code",
   "execution_count": null,
   "id": "e733ec13",
   "metadata": {},
   "outputs": [],
   "source": [
    "# trial が有効な視線だけ使用\n",
    "eye_trial = eye_df[eye_df[\"trial\"] >= 0]\n",
    "\n",
    "# 各試行ごとに画像提示中の視線サンプル数とHzを算出\n",
    "sampling_df = eye_trial.groupby(\"trial\").agg(\n",
    "    samples=(\"epoch_sec\", \"count\"),\n",
    "    start_sec=(\"epoch_sec\", \"min\"),\n",
    "    end_sec=(\"epoch_sec\", \"max\")\n",
    ").reset_index()\n",
    "sampling_df[\"duration_sec\"] = sampling_df[\"end_sec\"] - sampling_df[\"start_sec\"]\n",
    "sampling_df[\"sampling_rate_Hz\"] = sampling_df[\"samples\"] / sampling_df[\"duration_sec\"]\n"
   ]
  },
  {
   "cell_type": "code",
   "execution_count": null,
   "id": "d7cf3105",
   "metadata": {},
   "outputs": [
    {
     "name": "stdout",
     "output_type": "stream",
     "text": [
      "[実験課題中 実測ベース]\n",
      "・記録された視線サンプル数: 51210 点\n",
      "・記録実時間（視線の実データ間）: 600.00 秒\n",
      "・実サンプリング周波数: 85.35 Hz\n",
      "\n"
     ]
    }
   ],
   "source": [
    "\n",
    "# 実験課題実施中の視線データを抽出\n",
    "eye_df_trimmed = eye_df[\n",
    "    (eye_df[\"epoch_sec\"] >= pose_start_epoch) &\n",
    "    (eye_df[\"epoch_sec\"] <= pose_stop_epoch)\n",
    "].copy()\n",
    "\n",
    "# 実際に得られた視線データの期間（有効な最初と最後のタイムスタンプを使う）\n",
    "start = eye_df_trimmed[\"epoch_sec\"].min()\n",
    "end = eye_df_trimmed[\"epoch_sec\"].max()\n",
    "duration_actual = end - start\n",
    "\n",
    "# サンプル数\n",
    "samples = len(eye_df_trimmed)\n",
    "\n",
    "# 正味のサンプリング周波数（Hz）\n",
    "hz_actual = samples / duration_actual if duration_actual > 0 else float(\"nan\")\n",
    "\n",
    "# 表示\n",
    "print(f\"[実験課題中 実測ベース]\")\n",
    "print(f\"・記録された視線サンプル数: {samples} 点\")\n",
    "print(f\"・記録実時間（視線の実データ間）: {duration_actual:.2f} 秒\")\n",
    "print(f\"・実サンプリング周波数: {hz_actual:.2f} Hz\")\n",
    "\n",
    "print()"
   ]
  },
  {
   "cell_type": "code",
   "execution_count": null,
   "id": "1e95515a",
   "metadata": {},
   "outputs": [],
   "source": [
    "# サマリー情報を1行のデータフレームとして作成\n",
    "exp_summary_df = pd.DataFrame([{\n",
    "    \"participant\": participant_id,\n",
    "    \"exp_num\": exp_num,\n",
    "    \"pose_start_epoch\": pose_start_epoch,\n",
    "    \"pose_stop_epoch\": pose_stop_epoch,\n",
    "    \"duration_nominal\": pose_stop_epoch - pose_start_epoch,  # 理論上の時間\n",
    "    \"samples\": samples,\n",
    "    \"duration_actual\": duration_actual,\n",
    "    \"sampling_rate_Hz\": hz_actual\n",
    "}])"
   ]
  },
  {
   "cell_type": "code",
   "execution_count": null,
   "id": "f68402b2",
   "metadata": {},
   "outputs": [],
   "source": [
    "# debug用の出力\n",
    "# print(\"===========================\")\n",
    "# print(eye_df.head(10))\n",
    "# print(\"===========================\")\n",
    "# print(trial_df.head(10))\n",
    "# print(\"===========================\")    \n",
    "# print(sampling_df.head(10))\n",
    "# print(\"===========================\")\n",
    "# print(exp_summary_df.head(10))\n",
    "# print(\"===========================\")\n"
   ]
  },
  {
   "cell_type": "code",
   "execution_count": null,
   "id": "1c23254a",
   "metadata": {},
   "outputs": [
    {
     "name": "stdout",
     "output_type": "stream",
     "text": [
      "これらのDFはid018-002として保存します。\n"
     ]
    }
   ],
   "source": [
    "prefix = f\"{participant_id}-{exp_num}\"\n",
    "print(f\"これらのDFは{prefix}として保存します。\")\n",
    "# 1. 視線データの保存\n",
    "eye_df.to_csv(f\"{folder}/eye_df_{prefix}.csv\", index=False, float_format=\"%.6f\", encoding=\"utf-8-sig\")\n",
    "\n",
    "# 2. 試行データの保存\n",
    "trial_df.to_csv(f\"{folder}/trial_df_{prefix}.csv\", index=False, float_format=\"%.6f\", encoding=\"utf-8-sig\")\n",
    "\n",
    "# 3. サンプリング統計の保存\n",
    "sampling_df.to_csv(f\"{folder}/sampling_df_{prefix}.csv\", index=False, float_format=\"%.6f\", encoding=\"utf-8-sig\")"
   ]
  },
  {
   "cell_type": "code",
   "execution_count": null,
   "id": "96a3bfdd",
   "metadata": {},
   "outputs": [],
   "source": [
    "# ファイル名\n",
    "summary_path = f\"{folder}/exp_summary_all.csv\"\n",
    "\n",
    "# ヘッダー付きで新規保存 or ヘッダー無しで追記\n",
    "if not os.path.exists(summary_path):\n",
    "    exp_summary_df.to_csv(summary_path, index=False, float_format=\"%.6f\", encoding=\"utf-8-sig\")\n",
    "else:\n",
    "    exp_summary_df.to_csv(summary_path, mode='a', header=False, index=False, float_format=\"%.6f\", encoding=\"utf-8-sig\")\n"
   ]
  }
 ],
 "metadata": {
  "kernelspec": {
   "display_name": "Python 3",
   "language": "python",
   "name": "python3"
  },
  "language_info": {
   "codemirror_mode": {
    "name": "ipython",
    "version": 3
   },
   "file_extension": ".py",
   "mimetype": "text/x-python",
   "name": "python",
   "nbconvert_exporter": "python",
   "pygments_lexer": "ipython3",
   "version": "3.13.2"
  }
 },
 "nbformat": 4,
 "nbformat_minor": 5
}
