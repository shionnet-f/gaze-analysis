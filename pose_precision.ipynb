{
 "cells": [
  {
   "cell_type": "code",
   "execution_count": 11,
   "id": "eab3b221",
   "metadata": {},
   "outputs": [],
   "source": [
    "import pandas as pd\n",
    "import numpy as np\n",
    "from datetime import datetime\n",
    "from zoneinfo import ZoneInfo\n",
    "import math"
   ]
  },
  {
   "cell_type": "code",
   "execution_count": 12,
   "id": "1feeb40e",
   "metadata": {},
   "outputs": [],
   "source": [
    "subject_id = \"001\"\n",
    "experiment_id = \"001\"\n",
    "\n",
    "viewing_distance_cm = 70       # モニタまでの距離\n",
    "screen_width_cm = 47.6           # モニタの横幅\n",
    "screen_height_cm = 26.8          # モニタの高さ\n",
    "diag_length_cm = math.sqrt(screen_width_cm**2 + screen_height_cm**2)"
   ]
  },
  {
   "cell_type": "code",
   "execution_count": 13,
   "id": "32559a8f",
   "metadata": {},
   "outputs": [],
   "source": [
    "pose1_df = pd.read_csv(f\"./exported_csv/pose_df/pose1_df_id{subject_id}-{experiment_id}.csv\")\n",
    "pose2_df = pd.read_csv(f\"./exported_csv/pose_df/pose2_df_id{subject_id}-{experiment_id}.csv\")"
   ]
  },
  {
   "cell_type": "code",
   "execution_count": 14,
   "id": "3b4675d2",
   "metadata": {},
   "outputs": [],
   "source": [
    "from math import atan, sqrt\n",
    "\n",
    "\n",
    "def evaluate_precision(df, pose_name):\n",
    "    total_len = len(df)\n",
    "    \n",
    "    # validity_sum == 2 のデータのみを使う\n",
    "    valid_df = df[df[\"validity_sum\"] == 2].copy()\n",
    "\n",
    "    std_x = valid_df[\"mean_x\"].std()\n",
    "    std_y = valid_df[\"mean_y\"].std()\n",
    "    \n",
    "    precision_rms = sqrt(std_x**2 + std_y**2)\n",
    "    \n",
    "    precision_cm = precision_rms * diag_length_cm\n",
    "    precision_deg = atan(precision_cm / viewing_distance_cm)\n",
    "\n",
    "\n",
    "\n",
    "    # サマリデータの返却\n",
    "    return {\n",
    "        \"subject_id\": subject_id,\n",
    "        \"task_id\": experiment_id,\n",
    "        \"pose\": pose_name,\n",
    "        \"pose_length\": total_len,\n",
    "        \"valid_data_count\": len(valid_df),\n",
    "        \"precision_rms\": precision_rms,\n",
    "        \"precision_cm\": precision_cm,\n",
    "        \"precision_deg\": precision_deg\n",
    "    }"
   ]
  },
  {
   "cell_type": "code",
   "execution_count": 15,
   "id": "775e9485",
   "metadata": {},
   "outputs": [],
   "source": [
    "summary_list = []\n",
    "summary_list.append(evaluate_precision(pose1_df, \"pose1\"))\n",
    "summary_list.append(evaluate_precision(pose2_df, \"pose2\"))"
   ]
  },
  {
   "cell_type": "code",
   "execution_count": 16,
   "id": "1743d611",
   "metadata": {},
   "outputs": [
    {
     "name": "stdout",
     "output_type": "stream",
     "text": [
      "  subject_id task_id   pose  pose_length  valid_data_count  precision_rms  \\\n",
      "0        001     001  pose1         4028              2784       0.099955   \n",
      "1        001     001  pose2         4061              2531       0.103686   \n",
      "\n",
      "   precision_cm  precision_deg  \n",
      "0      5.460144       0.077844  \n",
      "1      5.663977       0.080738  \n"
     ]
    }
   ],
   "source": [
    "summary_df = pd.DataFrame(summary_list)\n",
    "print(summary_df)"
   ]
  }
 ],
 "metadata": {
  "kernelspec": {
   "display_name": "Python 3",
   "language": "python",
   "name": "python3"
  },
  "language_info": {
   "codemirror_mode": {
    "name": "ipython",
    "version": 3
   },
   "file_extension": ".py",
   "mimetype": "text/x-python",
   "name": "python",
   "nbconvert_exporter": "python",
   "pygments_lexer": "ipython3",
   "version": "3.13.2"
  }
 },
 "nbformat": 4,
 "nbformat_minor": 5
}
