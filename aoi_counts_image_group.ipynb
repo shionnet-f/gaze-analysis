{
 "cells": [
  {
   "cell_type": "code",
   "execution_count": 89,
   "id": "c1979365",
   "metadata": {},
   "outputs": [],
   "source": [
    "import pandas as pd\n",
    "import os"
   ]
  },
  {
   "cell_type": "code",
   "execution_count": 90,
   "id": "de4d3fac",
   "metadata": {},
   "outputs": [],
   "source": [
    "df_all_trials = pd.read_csv(\"./exported_csv/fixation_counts/IVT/summary_all_trials.csv\")\n",
    "df_aoi1  = pd.read_csv(\"./exported_csv/fixation_counts/IVT_triangle/summary_aoi1.csv\")"
   ]
  },
  {
   "cell_type": "code",
   "execution_count": 91,
   "id": "007c1189",
   "metadata": {},
   "outputs": [],
   "source": [
    "# === exp_idとtrialで結合 ===\n",
    "merged_df = pd.merge(\n",
    "    df_all_trials,\n",
    "    df_aoi1,\n",
    "    on=['id', 'exp_id', 'trial'],\n",
    "    how='inner',\n",
    "    suffixes=('_all', '_aoi1')\n",
    ")\n",
    "\n",
    "# === 列名を最初に統一 ===\n",
    "merged_df = merged_df.rename(columns={\n",
    "    'aoi': 'triangle',\n",
    "    'outside_aoi1': 'triangle_aoi_outside'\n",
    "})"
   ]
  },
  {
   "cell_type": "code",
   "execution_count": 92,
   "id": "8e36aa76",
   "metadata": {},
   "outputs": [
    {
     "name": "stdout",
     "output_type": "stream",
     "text": [
      "変換前データ型\n",
      "id                        int64\n",
      "exp_id                    int64\n",
      "trial                     int64\n",
      "left_eye                 object\n",
      "right_eye                object\n",
      "nose                     object\n",
      "mouth                    object\n",
      "outside_all              object\n",
      "triangle_aoi_outside     object\n",
      "triangle                float64\n",
      "total                   float64\n",
      "dtype: object\n"
     ]
    }
   ],
   "source": [
    "# === データ型確認\n",
    "print(\"変換前データ型\")\n",
    "print(merged_df.dtypes)\n",
    "\n",
    "# === 数値に変換する列を指定 ===\n",
    "cols_to_numeric = [\n",
    "    'total',\n",
    "    'left_eye',\n",
    "    'right_eye',\n",
    "    'nose',\n",
    "    'mouth',\n",
    "    'triangle',\n",
    "    'triangle_aoi_outside',\n",
    "    'outside_all'  # ←追加\n",
    "]"
   ]
  },
  {
   "cell_type": "code",
   "execution_count": 93,
   "id": "8ee0e99c",
   "metadata": {},
   "outputs": [
    {
     "name": "stdout",
     "output_type": "stream",
     "text": [
      "\n",
      "変換後データ型\n",
      "id                        int64\n",
      "exp_id                    int64\n",
      "trial                     int64\n",
      "left_eye                float64\n",
      "right_eye               float64\n",
      "nose                    float64\n",
      "mouth                   float64\n",
      "outside_all             float64\n",
      "triangle_aoi_outside    float64\n",
      "triangle                float64\n",
      "total                   float64\n",
      "dtype: object\n"
     ]
    }
   ],
   "source": [
    "# 数値に変換（エラーはNaNに）\n",
    "for col in cols_to_numeric:\n",
    "    merged_df[col] = pd.to_numeric(merged_df[col], errors='coerce')\n",
    "    # === データ型確認\n",
    "print(\"\\n変換後データ型\")\n",
    "print(merged_df.dtypes)"
   ]
  },
  {
   "cell_type": "code",
   "execution_count": 94,
   "id": "af251e2b",
   "metadata": {},
   "outputs": [],
   "source": [
    "# === parts_aoi_outsideの計算 ===\n",
    "merged_df['parts_aoi_outside'] = (\n",
    "    merged_df['total'] -\n",
    "    (\n",
    "        merged_df['left_eye'] +\n",
    "        merged_df['right_eye'] +\n",
    "        merged_df['nose'] +\n",
    "        merged_df['mouth']\n",
    "    )\n",
    ")\n"
   ]
  },
  {
   "cell_type": "code",
   "execution_count": 95,
   "id": "38b68b0e",
   "metadata": {},
   "outputs": [],
   "source": [
    "# === 出力列を並べる ===\n",
    "output_columns = [\n",
    "    'id',\n",
    "    'exp_id',\n",
    "    'trial',\n",
    "    'total',\n",
    "    'left_eye',\n",
    "    'right_eye',\n",
    "    'nose',\n",
    "    'mouth',\n",
    "    'parts_aoi_outside',\n",
    "    'triangle',\n",
    "    'triangle_aoi_outside'\n",
    "]\n",
    "\n",
    "# === 出力用DataFrame\n",
    "final_df = merged_df[output_columns]"
   ]
  },
  {
   "cell_type": "code",
   "execution_count": 96,
   "id": "487c820a",
   "metadata": {},
   "outputs": [],
   "source": [
    "final_df.to_csv( \"./exported_csv/fixation_counts/fixation_counts_sammary_all_AOI.csv\",index=False)"
   ]
  },
  {
   "cell_type": "code",
   "execution_count": 97,
   "id": "a37ec320",
   "metadata": {},
   "outputs": [],
   "source": [
    "# import os\n",
    "\n",
    "# # 出力先ディレクトリ\n",
    "# output_dir = \"exported_csv/fixation_counts/IVT_image_group\"\n",
    "# os.makedirs(output_dir, exist_ok=True)\n",
    "\n",
    "# # グループ単位で分割して保存\n",
    "# grouped = final_df.groupby(['exp_id', 'trial'])\n",
    "\n",
    "# for (exp_id, trial), group_df in grouped:\n",
    "#     # exp_id と trial を3桁ゼロ埋め\n",
    "#     filename = os.path.join(\n",
    "#         output_dir,\n",
    "#         f\"merged_exp{exp_id:03}_trial{trial:01}.csv\"\n",
    "#     )\n",
    "#     group_df.to_csv(filename, index=False)\n",
    "#     print(f\"✅ 出力: {filename}\")\n",
    "\n"
   ]
  }
 ],
 "metadata": {
  "kernelspec": {
   "display_name": "Python 3",
   "language": "python",
   "name": "python3"
  },
  "language_info": {
   "codemirror_mode": {
    "name": "ipython",
    "version": 3
   },
   "file_extension": ".py",
   "mimetype": "text/x-python",
   "name": "python",
   "nbconvert_exporter": "python",
   "pygments_lexer": "ipython3",
   "version": "3.11.9"
  }
 },
 "nbformat": 4,
 "nbformat_minor": 5
}
