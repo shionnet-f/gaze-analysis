{
 "cells": [
  {
   "cell_type": "code",
   "execution_count": 7,
   "id": "edf72a6b",
   "metadata": {},
   "outputs": [],
   "source": [
    "import pandas as pd"
   ]
  },
  {
   "cell_type": "code",
   "execution_count": 8,
   "id": "5bae7329",
   "metadata": {},
   "outputs": [],
   "source": [
    "df = pd.read_csv(\"./exported_csv/fixation_counts/fixation_counts_sammary_all_AOI.csv\")"
   ]
  },
  {
   "cell_type": "code",
   "execution_count": 9,
   "id": "e2d8e40a",
   "metadata": {},
   "outputs": [],
   "source": [
    "# 画像条件ラベルを定義\n",
    "label_mapping = {\n",
    "    \"不気味\": [\"1-1\", \"1-7\", \"2-5\", \"2-7\", \"3-5\", \"3-8\"],\n",
    "    \"中間\": [\"1-2\", \"1-8\", \"2-1\", \"2-8\", \"3-2\", \"3-7\"],\n",
    "    \"自然\": [\"1-4\", \"1-5\", \"2-2\", \"2-4\", \"3-1\", \"3-4\"],\n",
    "    \"実写真\": [\"1-3\", \"1-6\", \"2-3\", \"2-6\", \"3-3\", \"3-6\"],\n",
    "}\n",
    "\n",
    "# trial番号は0始まりなので+1する\n",
    "df[\"image_label\"] = df[\"exp_id\"].astype(str) + \"-\" + (df[\"trial\"] + 1).astype(str)\n",
    "\n",
    "# image_labelからconditionを割り当てる\n",
    "def assign_condition(image_label):\n",
    "    for cond, labels in label_mapping.items():\n",
    "        if image_label in labels:\n",
    "            return cond\n",
    "    return \"不明\"\n",
    "\n",
    "\n",
    "df[\"condition\"] = df[\"image_label\"].apply(assign_condition)"
   ]
  },
  {
   "cell_type": "code",
   "execution_count": 10,
   "id": "b25ae888",
   "metadata": {},
   "outputs": [],
   "source": [
    "# AOI列を確認\n",
    "aoi_columns = [\n",
    "    \"left_eye\",\n",
    "    \"right_eye\",\n",
    "    \"nose\",\n",
    "    \"mouth\",\n",
    "    \"parts_aoi_outside\",\n",
    "    \"triangle\",\n",
    "    \"triangle_aoi_outside\"\n",
    "]"
   ]
  },
  {
   "cell_type": "code",
   "execution_count": 16,
   "id": "20c0f7d0",
   "metadata": {},
   "outputs": [],
   "source": [
    "# 被験者IDを文字列に\n",
    "df[\"id_str\"] = df[\"id\"].astype(str)\n",
    "\n",
    "# AOIごとに分散分析用データを作成（idを数値でソート）\n",
    "aoi_dataframes = {}\n",
    "for aoi in aoi_columns:\n",
    "    pivot_df = (\n",
    "        df.pivot_table(\n",
    "            index=\"id\",\n",
    "            columns=\"condition\",\n",
    "            values=aoi + \"_ratio\",\n",
    "            aggfunc=\"mean\"\n",
    "        )\n",
    "    )\n",
    "    # indexを数値に変換してソートし、表示用には文字列に戻す\n",
    "    pivot_df.index = pivot_df.index.astype(int)\n",
    "    pivot_df = pivot_df.sort_index()\n",
    "    pivot_df.index = pivot_df.index.astype(str)\n",
    "    aoi_dataframes[aoi] = pivot_df\n"
   ]
  },
  {
   "cell_type": "code",
   "execution_count": null,
   "id": "bebe6fd7",
   "metadata": {},
   "outputs": [
    {
     "name": "stdout",
     "output_type": "stream",
     "text": [
      "AOI: left_eye\n",
      "condition       不気味        中間       実写真        自然\n",
      "id                                               \n",
      "1          0.396262  0.480919  0.540053  0.526229\n",
      "2          0.505272  0.560968  0.528546  0.536449\n",
      "3          0.382821  0.276801  0.325690  0.344735\n",
      "4          0.323515  0.418125  0.384399  0.371621\n",
      "5          0.931034  0.835821  0.938462  0.714706\n",
      "6          0.253417  0.255320  0.207971  0.218040\n",
      "7               NaN  0.214286  0.000000  0.521303\n",
      "8          0.566201  0.592283  0.438028  0.373397\n",
      "9          0.622527  0.511119  0.579393  0.444221\n",
      "10         0.353846  0.327869  0.220000  0.264787\n",
      "11         0.648352  0.722913  0.574531  0.626046\n",
      "12         0.626255  0.670585  0.485510  0.581489\n",
      "13         0.359156  0.499724  0.516783  0.447648\n",
      "14         0.463121  0.642857  0.561051  0.525824\n",
      "15         0.359297  0.376068  0.338569  0.405790\n",
      "16         0.198230  0.154841  0.125746  0.267705\n",
      "17         0.350931  0.465796  0.346059  0.386238\n",
      "18         0.202706  0.199177  0.293949  0.233720\n",
      "19         0.154189  0.174664  0.146986  0.167935\n"
     ]
    }
   ],
   "source": [
    "# 例として left_eye のデータを表示\n",
    "print(\"AOI: left_eye\")\n",
    "print(aoi_dataframes[\"left_eye\"])\n"
   ]
  }
 ],
 "metadata": {
  "kernelspec": {
   "display_name": "Python 3",
   "language": "python",
   "name": "python3"
  },
  "language_info": {
   "codemirror_mode": {
    "name": "ipython",
    "version": 3
   },
   "file_extension": ".py",
   "mimetype": "text/x-python",
   "name": "python",
   "nbconvert_exporter": "python",
   "pygments_lexer": "ipython3",
   "version": "3.11.9"
  }
 },
 "nbformat": 4,
 "nbformat_minor": 5
}
