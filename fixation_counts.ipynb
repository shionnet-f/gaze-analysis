{
 "cells": [
  {
   "cell_type": "code",
   "execution_count": 171,
   "id": "c2124d92",
   "metadata": {},
   "outputs": [],
   "source": [
    "import cv2\n",
    "import numpy as np\n",
    "import pandas as pd\n",
    "import os"
   ]
  },
  {
   "cell_type": "code",
   "execution_count": 172,
   "id": "bb97752a",
   "metadata": {},
   "outputs": [],
   "source": [
    "summary_df = pd.DataFrame(columns=[\"id\", \"trial\", \"left_eye\", \"right_eye\", \"nose\", \"mouth\", \"outside\"])\n",
    "os.makedirs(\"exported_csv/fixation_counts\", exist_ok=True)"
   ]
  },
  {
   "cell_type": "code",
   "execution_count": 173,
   "id": "ffb6b661",
   "metadata": {},
   "outputs": [],
   "source": [
    "subject_id = 1\n",
    "experiment_id = 1\n",
    "trial_num = 0\n",
    "# 顔画像の読み込み\n",
    "img = cv2.imread(f'../face_aoi_project/output_aoi/{experiment_id}-{trial_num + 1}.jpg')\n",
    "fixation_df = pd.read_csv(f\"exported_csv/fixation_IDT/fix_df_{subject_id:03}-{experiment_id:03}-{trial_num}.csv\")\n",
    "total_fix = len(fixation_df)"
   ]
  },
  {
   "cell_type": "code",
   "execution_count": 174,
   "id": "c0a99132",
   "metadata": {},
   "outputs": [],
   "source": [
    "hsv = cv2.cvtColor(img, cv2.COLOR_BGR2HSV)\n",
    "lower_cyan = np.array([80, 50, 50])\n",
    "upper_cyan = np.array([100, 255, 255])\n",
    "mask_blue = cv2.inRange(hsv, lower_cyan, upper_cyan)\n",
    "kernel = np.ones((3, 3), np.uint8)\n",
    "mask_clean = cv2.morphologyEx(mask_blue, cv2.MORPH_CLOSE, kernel)"
   ]
  },
  {
   "cell_type": "code",
   "execution_count": 175,
   "id": "afc1d455",
   "metadata": {},
   "outputs": [],
   "source": [
    "# 輪郭抽出\n",
    "contours, _ = cv2.findContours(mask_blue, cv2.RETR_EXTERNAL, cv2.CHAIN_APPROX_SIMPLE)\n",
    "# 面積の大きい輪郭から上位4つをAOIとして採用\n",
    "sorted_contours = sorted(contours, key=cv2.contourArea, reverse=True)[:4]"
   ]
  },
  {
   "cell_type": "code",
   "execution_count": 176,
   "id": "1996d4bf",
   "metadata": {},
   "outputs": [],
   "source": [
    "aoi_masks = []\n",
    "aoi_counts = []\n",
    "\n",
    "for i, contour in enumerate(sorted_contours):\n",
    "    # AOIごとのマスク作成\n",
    "    mask = np.zeros(mask_clean.shape, dtype=np.uint8)\n",
    "    cv2.drawContours(mask, [contour], -1, 255, thickness=cv2.FILLED)\n",
    "    aoi_masks.append(mask)\n",
    "\n",
    "    # 注視点カウント（ピクセル内包判定）\n",
    "    count = 0\n",
    "    for _, row in fixation_df.iterrows():\n",
    "        x, y = int(row['x_px']), int(row['y_px'])\n",
    "        if 0 <= x < mask.shape[1] and 0 <= y < mask.shape[0]:\n",
    "            if mask[y, x] == 255:\n",
    "                count += 1\n",
    "    aoi_counts.append(count)"
   ]
  },
  {
   "cell_type": "code",
   "execution_count": 177,
   "id": "cf49ec75",
   "metadata": {},
   "outputs": [],
   "source": [
    "# AOI情報まとめ（重心・ラベル・カウント）\n",
    "aoi_info = []\n",
    "\n",
    "overlay = img.copy()\n",
    "\n",
    "# AOIマスクを赤で半透明に重ねる\n",
    "for mask in aoi_masks:\n",
    "    red_mask = np.zeros_like(img)\n",
    "    red_mask[mask == 255] = [0, 0, 255]\n",
    "    overlay = cv2.addWeighted(overlay, 1.0, red_mask, 0.4, 0)\n",
    "\n",
    "# 注視点を緑で描く\n",
    "for _, row in fixation_df.iterrows():\n",
    "    cv2.circle(overlay, (int(row['x_px']), int(row['y_px'])), 4, (0, 255, 0), -1)\n",
    "\n",
    "for contour, count in zip(sorted_contours, aoi_counts):\n",
    "    M = cv2.moments(contour)\n",
    "    if M[\"m00\"] != 0:\n",
    "        cx = int(M[\"m10\"] / M[\"m00\"])\n",
    "        cy = int(M[\"m01\"] / M[\"m00\"])\n",
    "        aoi_info.append({'contour': contour, 'count': count, 'cx': cx, 'cy': cy})\n"
   ]
  },
  {
   "cell_type": "code",
   "execution_count": 178,
   "id": "a77dc218",
   "metadata": {},
   "outputs": [],
   "source": [
    "# === 並び替えとラベル付け ===\n",
    "aoi_info_sorted = sorted(aoi_info, key=lambda d: d['cy'])\n",
    "eyes = sorted(aoi_info_sorted[:2], key=lambda d: d['cx'])\n",
    "nose = aoi_info_sorted[2]\n",
    "mouth = aoi_info_sorted[3]\n",
    "\n",
    "# === ラベル付きAOI ===\n",
    "aoi_labeled = [\n",
    "    {'label': 'left_eye',  'count': eyes[0]['count'], 'cx': eyes[0]['cx'], 'cy': eyes[0]['cy']},\n",
    "    {'label': 'right_eye', 'count': eyes[1]['count'], 'cx': eyes[1]['cx'], 'cy': eyes[1]['cy']},\n",
    "    {'label': 'nose',      'count': nose['count'],    'cx': nose['cx'],    'cy': nose['cy']},\n",
    "    {'label': 'mouth',     'count': mouth['count'],   'cx': mouth['cx'],   'cy': mouth['cy']}\n",
    "]"
   ]
  },
  {
   "cell_type": "code",
   "execution_count": 179,
   "id": "9245d01a",
   "metadata": {},
   "outputs": [],
   "source": [
    "# === AOI外の注視数を計算 ===\n",
    "inside_total = sum([aoi['count'] for aoi in aoi_labeled])\n",
    "outside_count = total_fix - inside_total\n",
    "\n",
    "# === outside の行を追加 ===\n",
    "aoi_labeled.append({\n",
    "    'label': 'outside',\n",
    "    'count': outside_count,\n",
    "    'cx': np.nan,\n",
    "    'cy': np.nan\n",
    "})"
   ]
  },
  {
   "cell_type": "code",
   "execution_count": 181,
   "id": "125c235f",
   "metadata": {},
   "outputs": [
    {
     "name": "stdout",
     "output_type": "stream",
     "text": [
      "       label  total_fixation  count      cx     cy\n",
      "0   left_eye              86      4   849.0  546.0\n",
      "1  right_eye              86      3  1097.0  559.0\n",
      "2       nose              86      1   969.0  676.0\n",
      "3      mouth              86      2   965.0  852.0\n",
      "4    outside              86     76     NaN    NaN\n"
     ]
    }
   ],
   "source": [
    "# === DataFrame化 ===\n",
    "df_result = pd.DataFrame(aoi_labeled)\n",
    "df_result.insert(1, 'total_fixation', total_fix)\n",
    "\n",
    "# === 出力確認 ===\n",
    "print(df_result)"
   ]
  },
  {
   "cell_type": "code",
   "execution_count": 180,
   "id": "8a42324b",
   "metadata": {},
   "outputs": [],
   "source": [
    "# # === result_df 保存 ===\n",
    "# summary_path = \"exported_csv/fixation_counts/summary_all_trials.csv\"\n",
    "# summary_df.to_csv(summary_path, index=False, encoding='utf-8-sig')"
   ]
  },
  {
   "cell_type": "code",
   "execution_count": 182,
   "id": "8361614b",
   "metadata": {},
   "outputs": [
    {
     "name": "stdout",
     "output_type": "stream",
     "text": [
      "        id trial left_eye right_eye nose mouth outside\n",
      "0  001-001     0        4         3    1     2      76\n"
     ]
    }
   ],
   "source": [
    "# === summary_df に1行追加 ===\n",
    "summary_row = {\n",
    "    \"id\": f\"{subject_id:03}-{experiment_id:03}\",\n",
    "    \"trial\": trial_num\n",
    "}\n",
    "for label in [\"left_eye\", \"right_eye\", \"nose\", \"mouth\", \"outside\"]:\n",
    "    count = df_result.loc[df_result[\"label\"] == label, \"count\"].values\n",
    "    summary_row[label] = int(count[0]) if len(count) > 0 else 0\n",
    "\n",
    "summary_df = pd.concat([summary_df, pd.DataFrame([summary_row])], ignore_index=True)\n",
    "print(summary_df)"
   ]
  },
  {
   "cell_type": "code",
   "execution_count": 183,
   "id": "657f96d9",
   "metadata": {},
   "outputs": [],
   "source": [
    "\n",
    "# # === summary_df 保存 ===\n",
    "# summary_path = \"exported_csv/fixation_counts/summary_all_trials.csv\"\n",
    "# summary_df.to_csv(summary_path, index=False, encoding='utf-8-sig')\n",
    "# print(f\"summary_df 保存済: {summary_path}\")"
   ]
  },
  {
   "cell_type": "code",
   "execution_count": 184,
   "id": "94792512",
   "metadata": {},
   "outputs": [],
   "source": [
    "scale = 0.5\n",
    "small_overlay = cv2.resize(overlay, None, fx=scale, fy=scale, interpolation=cv2.INTER_AREA)\n",
    "cv2.imshow(\"AOI Overlay with Fixations\", small_overlay)\n",
    "cv2.waitKey(0)\n",
    "cv2.destroyAllWindows()"
   ]
  }
 ],
 "metadata": {
  "kernelspec": {
   "display_name": "Python 3",
   "language": "python",
   "name": "python3"
  },
  "language_info": {
   "codemirror_mode": {
    "name": "ipython",
    "version": 3
   },
   "file_extension": ".py",
   "mimetype": "text/x-python",
   "name": "python",
   "nbconvert_exporter": "python",
   "pygments_lexer": "ipython3",
   "version": "3.11.9"
  }
 },
 "nbformat": 4,
 "nbformat_minor": 5
}
