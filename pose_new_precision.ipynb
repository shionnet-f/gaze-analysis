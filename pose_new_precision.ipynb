{
 "cells": [
  {
   "cell_type": "code",
   "execution_count": 13,
   "id": "7e785cb4",
   "metadata": {},
   "outputs": [],
   "source": [
    "import pandas as pd\n",
    "import numpy as np\n",
    "\n",
    "subject_id = \"001\"\n",
    "experiment_id = \"001\"\n",
    "\n",
    "# --- モニター情報 ---\n",
    "resolution_x = 1920   # 横ピクセル\n",
    "resolution_y = 1080   # 縦ピクセル\n",
    "monitor_width_cm = 47.6   # モニター幅 [cm]\n",
    "monitor_height_cm = 26.8  # モニター高さ [cm]\n",
    "viewing_distance_cm = 70  # 被験者-モニター距離 [cm]\n",
    "\n",
    "\n",
    "# ピクセルあたりのcm\n",
    "cm_per_pixel_x = monitor_width_cm / resolution_x\n",
    "cm_per_pixel_y = monitor_height_cm / resolution_y"
   ]
  },
  {
   "cell_type": "code",
   "execution_count": 14,
   "id": "89f48a2f",
   "metadata": {},
   "outputs": [],
   "source": [
    "df = pd.read_csv(f\"./exported_csv/pose_df/pose_fix_df/pose_fix_df_id{subject_id}-{experiment_id}.csv\")"
   ]
  },
  {
   "cell_type": "code",
   "execution_count": 16,
   "id": "657e29e5",
   "metadata": {},
   "outputs": [
    {
     "name": "stdout",
     "output_type": "stream",
     "text": [
      "RMS距離 (正規化座標): 0.042973\n",
      "RMS視野角: 1.182°\n"
     ]
    }
   ],
   "source": [
    "\n",
    "# 正規化座標の重心\n",
    "center_x = df[\"x_mean_norm\"].mean()\n",
    "center_y = df[\"y_mean_norm\"].mean()\n",
    "\n",
    "# === 正規化座標RMS距離 ===\n",
    "df[\"distance_norm\"] = np.sqrt(\n",
    "    (df[\"x_mean_norm\"] - center_x) ** 2 + (df[\"y_mean_norm\"] - center_y) ** 2\n",
    ")\n",
    "rms_distance_norm = np.sqrt(np.mean(df[\"distance_norm\"] ** 2))\n",
    "\n",
    "# === ピクセル座標 ===\n",
    "df[\"x_px\"] = df[\"x_mean_norm\"] * resolution_x\n",
    "df[\"y_px\"] = df[\"y_mean_norm\"] * resolution_y\n",
    "\n",
    "center_x_px = center_x * resolution_x\n",
    "center_y_px = center_y * resolution_y\n",
    "\n",
    "# ピクセル座標 → センチメートル\n",
    "df[\"x_cm\"] = (df[\"x_px\"] - resolution_x / 2) * cm_per_pixel_x\n",
    "df[\"y_cm\"] = (df[\"y_px\"] - resolution_y / 2) * cm_per_pixel_y\n",
    "center_x_cm = (center_x_px - resolution_x / 2) * cm_per_pixel_x\n",
    "center_y_cm = (center_y_px - resolution_y / 2) * cm_per_pixel_y\n",
    "\n",
    "# 中心からの距離 [cm]\n",
    "df[\"distance_cm\"] = np.sqrt(\n",
    "    (df[\"x_cm\"] - center_x_cm) ** 2 + (df[\"y_cm\"] - center_y_cm) ** 2\n",
    ")\n",
    "\n",
    "# 視野角 [deg]\n",
    "df[\"distance_deg\"] = np.degrees(\n",
    "    np.arctan(df[\"distance_cm\"] / viewing_distance_cm)\n",
    ")\n",
    "\n",
    "# RMS視野角\n",
    "rms_distance_deg = np.sqrt(np.mean(df[\"distance_deg\"] ** 2))\n",
    "\n",
    "# 出力\n",
    "print(f\"RMS距離 (正規化座標): {rms_distance_norm:.6f}\")\n",
    "print(f\"RMS視野角: {rms_distance_deg:.3f}°\")"
   ]
  }
 ],
 "metadata": {
  "kernelspec": {
   "display_name": "Python 3",
   "language": "python",
   "name": "python3"
  },
  "language_info": {
   "codemirror_mode": {
    "name": "ipython",
    "version": 3
   },
   "file_extension": ".py",
   "mimetype": "text/x-python",
   "name": "python",
   "nbconvert_exporter": "python",
   "pygments_lexer": "ipython3",
   "version": "3.11.9"
  }
 },
 "nbformat": 4,
 "nbformat_minor": 5
}
