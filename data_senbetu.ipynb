{
 "cells": [
  {
   "cell_type": "code",
   "execution_count": 63,
   "id": "4e3791e7",
   "metadata": {},
   "outputs": [],
   "source": [
    "import pandas as pd\n"
   ]
  },
  {
   "cell_type": "code",
   "execution_count": 64,
   "id": "b01de4f3",
   "metadata": {},
   "outputs": [],
   "source": [
    "subject_id = \"001\"\n",
    "experiment_id = \"001\""
   ]
  },
  {
   "cell_type": "code",
   "execution_count": 65,
   "id": "252f0cc1",
   "metadata": {},
   "outputs": [],
   "source": [
    "eye_df  = pd.read_csv(f\"./exported_csv/eye_df_interp_validity/eye_df_interp_validity{subject_id}-{experiment_id}.csv\")\n",
    "sampling_df = pd.read_csv(f\"./exported_csv/sampling_df_id{subject_id}-{experiment_id}.csv\")"
   ]
  },
  {
   "cell_type": "code",
   "execution_count": 66,
   "id": "649c92f0",
   "metadata": {},
   "outputs": [],
   "source": [
    "import pandas as pd\n",
    "\n",
    "# 必須列があるか確認\n",
    "required_sampling = [\"trial\", \"samples\", \"start_sec\",\"end_sec\",\t\"duration_sec\",\"sampling_rate_Hz\"]\n",
    "required_eye = ['trial', 'total_samples', 'valid_sum_2', 'valid_interp_1_or_2', 'rate_valid_sum_2', 'rate_valid_interp_1_or_2']\n",
    "\n",
    "if not all(col in sampling_df.columns for col in required_sampling):\n",
    "    raise ValueError(\"sampling_dfに必要な列がありません\")\n",
    "\n",
    "if not all(col in eye_df.columns for col in required_eye):\n",
    "    raise ValueError(\"eye_dfに必要な列がありません\")\n",
    "\n",
    "# duration判定\n",
    "sampling_df[\"duration_ok\"] = sampling_df[\"duration_sec\"] >= 39.9\n",
    "\n",
    "# eye_df 有効率条件\n",
    "eye_df[\"validity_ok\"] = eye_df[\"rate_valid_interp_1_or_2\"] >= 60\n",
    "\n",
    "# 補完率計算\n",
    "eye_df[\"interp_rate(%)\"] = (\n",
    "    (eye_df[\"valid_interp_1_or_2\"] - eye_df[\"valid_sum_2\"])\n",
    "    / eye_df[\"valid_interp_1_or_2\"]\n",
    ") * 100\n",
    "eye_df[\"interp_ok\"] = eye_df[\"interp_rate(%)\"] < 10\n",
    "\n",
    "# durationとvalidity/interpをマージ\n",
    "merged = pd.merge(\n",
    "    sampling_df[[ \"trial\",\"duration_sec\", \"duration_ok\"]],\n",
    "    eye_df[[ \"trial\", \"validity_ok\", \"interp_ok\"]],\n",
    "    on=[\"trial\"],\n",
    "    how=\"outer\"\n",
    ")\n",
    "\n",
    "# すべての条件\n",
    "merged[\"all_ok\"] = (\n",
    "    merged[\"duration_ok\"].fillna(False) &\n",
    "    merged[\"validity_ok\"].fillna(False) &\n",
    "    merged[\"interp_ok\"].fillna(False)\n",
    ")\n",
    "\n",
    "# ID列を追加\n",
    "merged[\"subject_id\"] = subject_id\n",
    "merged[\"experiment_id\"] = experiment_id\n",
    "\n",
    "merged = merged[[\n",
    "    \"subject_id\",\n",
    "    \"experiment_id\",\n",
    "    \"trial\",\n",
    "    \"duration_sec\",\n",
    "    \"duration_ok\",\n",
    "    \"validity_ok\",\n",
    "    \"interp_ok\",\n",
    "    \"all_ok\"\n",
    "]]\n",
    "\n",
    "# 結果表示\n",
    "merged\n",
    "\n",
    "# 保存\n",
    "merged.to_csv(\"./exported_csv/condition_flags.csv\", index=False)\n"
   ]
  }
 ],
 "metadata": {
  "kernelspec": {
   "display_name": "Python 3",
   "language": "python",
   "name": "python3"
  },
  "language_info": {
   "codemirror_mode": {
    "name": "ipython",
    "version": 3
   },
   "file_extension": ".py",
   "mimetype": "text/x-python",
   "name": "python",
   "nbconvert_exporter": "python",
   "pygments_lexer": "ipython3",
   "version": "3.11.9"
  }
 },
 "nbformat": 4,
 "nbformat_minor": 5
}
