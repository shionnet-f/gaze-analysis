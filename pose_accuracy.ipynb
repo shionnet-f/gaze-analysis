{
 "cells": [
  {
   "cell_type": "code",
   "execution_count": 53,
   "id": "bf657115",
   "metadata": {},
   "outputs": [],
   "source": [
    "import pandas as pd\n",
    "import numpy as np\n",
    "from datetime import datetime\n",
    "from zoneinfo import ZoneInfo\n",
    "import math"
   ]
  },
  {
   "cell_type": "code",
   "execution_count": 54,
   "id": "da23b614",
   "metadata": {},
   "outputs": [],
   "source": [
    "subject_id = \"001\"\n",
    "experiment_id = \"001\"\n",
    "\n",
    "viewing_distance_cm = 70       # モニタまでの距離\n",
    "screen_width_cm = 47.6           # モニタの横幅\n",
    "screen_height_cm = 26.8          # モニタの高さ\n",
    "diag_length_cm = math.sqrt(screen_width_cm**2 + screen_height_cm**2)"
   ]
  },
  {
   "cell_type": "code",
   "execution_count": 55,
   "id": "0b796a13",
   "metadata": {},
   "outputs": [],
   "source": [
    "file_path = f\"./PsychoData/id{subject_id}/{experiment_id}.csv\"\n",
    "psycho_df = pd.read_csv(file_path)  "
   ]
  },
  {
   "cell_type": "code",
   "execution_count": 56,
   "id": "e9b08a32",
   "metadata": {},
   "outputs": [
    {
     "name": "stdout",
     "output_type": "stream",
     "text": [
      "1732521012.937293\n"
     ]
    }
   ],
   "source": [
    "exp_start_raw = psycho_df.loc[0, \"expStart\"]  # 例: \"2024-11-25 16h50.12.937293 +0900\"\n",
    "exp_start_cleaned = exp_start_raw.replace(\"h\", \":\").replace(\".\", \":\", 1).split(\" +\")[0]\n",
    "dt_jst = datetime.strptime(exp_start_cleaned, \"%Y-%m-%d %H:%M:%S.%f\").replace(tzinfo=ZoneInfo(\"Asia/Tokyo\"))\n",
    "dt_utc = dt_jst.astimezone(ZoneInfo(\"UTC\"))  # JST → UTC に変換\n",
    "exp_start_epoch = dt_utc.timestamp()\n",
    "print(exp_start_epoch)"
   ]
  },
  {
   "cell_type": "code",
   "execution_count": 57,
   "id": "f9c59a18",
   "metadata": {},
   "outputs": [],
   "source": [
    "pose_start_sorted = sorted(psycho_df[\"pose.started\"].dropna().unique())\n",
    "pose_stop_sorted = sorted(psycho_df[\"pose.stopped\"].dropna().unique())"
   ]
  },
  {
   "cell_type": "code",
   "execution_count": 58,
   "id": "8cbf25bf",
   "metadata": {},
   "outputs": [],
   "source": [
    "pose1_start = exp_start_epoch + pose_start_sorted[0]\n",
    "pose1_stop  = exp_start_epoch + pose_stop_sorted[0]"
   ]
  },
  {
   "cell_type": "code",
   "execution_count": 59,
   "id": "c2672db7",
   "metadata": {},
   "outputs": [
    {
     "name": "stdout",
     "output_type": "stream",
     "text": [
      "1732521031.8261118 1732521091.8326926\n"
     ]
    }
   ],
   "source": [
    "print(pose1_start,pose1_stop)"
   ]
  },
  {
   "cell_type": "code",
   "execution_count": 60,
   "id": "38750de1",
   "metadata": {},
   "outputs": [],
   "source": [
    "tobii_filepath = f\"./tobiiData/aha-id{subject_id}-{experiment_id}.csv\"\n",
    "tobii_df = pd.read_csv(tobii_filepath)"
   ]
  },
  {
   "cell_type": "code",
   "execution_count": 61,
   "id": "67108af0",
   "metadata": {},
   "outputs": [],
   "source": [
    "tobii_df[[\"left_x\", \"left_y\"]] = tobii_df[\"left_gaze_point_on_display_area\"] \\\n",
    "    .str.strip(\"()\") \\\n",
    "    .str.split(\",\", expand=True) \\\n",
    "    .astype(float)\n",
    "\n",
    "tobii_df[[\"right_x\", \"right_y\"]] = tobii_df[\"right_gaze_point_on_display_area\"] \\\n",
    "    .str.strip(\"()\") \\\n",
    "    .str.split(\",\", expand=True) \\\n",
    "    .astype(float)"
   ]
  },
  {
   "cell_type": "code",
   "execution_count": 62,
   "id": "4e437351",
   "metadata": {},
   "outputs": [],
   "source": [
    "tobii_df[\"validity_sum\"] = (tobii_df[\"left_gaze_point_validity\"] +tobii_df[\"right_gaze_point_validity\"])"
   ]
  },
  {
   "cell_type": "code",
   "execution_count": 63,
   "id": "38f27a5c",
   "metadata": {},
   "outputs": [],
   "source": [
    "tobii_df[\"datetime\"] = pd.to_datetime(\n",
    "    tobii_df[\"realtime\"],\n",
    "    format=\"%Y/%m/%d %H:%M:%S.%f\"\n",
    ").dt.tz_localize(\"Asia/Tokyo\").dt.tz_convert(\"UTC\")\n",
    "tobii_df[\"epoch_time\"] = tobii_df[\"datetime\"].apply(lambda x: x.timestamp())"
   ]
  },
  {
   "cell_type": "code",
   "execution_count": 64,
   "id": "bd26a4e2",
   "metadata": {},
   "outputs": [],
   "source": [
    "# 表示形式を通常の10進数（小数）で表示\n",
    "pd.set_option('display.float_format', '{:.3f}'.format)"
   ]
  },
  {
   "cell_type": "code",
   "execution_count": 65,
   "id": "0e1f9332",
   "metadata": {},
   "outputs": [],
   "source": [
    "processed_df = tobii_df[[\n",
    "    \"left_x\", \"left_y\",\n",
    "    \"right_x\", \"right_y\",\n",
    "    \"left_gaze_point_validity\", \"right_gaze_point_validity\", \"validity_sum\",\n",
    "    \"realtime\", \"epoch_time\"\n",
    "]]"
   ]
  },
  {
   "cell_type": "code",
   "execution_count": 66,
   "id": "c8b59ef9",
   "metadata": {},
   "outputs": [
    {
     "name": "stderr",
     "output_type": "stream",
     "text": [
      "C:\\Users\\hisao\\AppData\\Local\\Temp\\ipykernel_24332\\2325693031.py:1: SettingWithCopyWarning: \n",
      "A value is trying to be set on a copy of a slice from a DataFrame.\n",
      "Try using .loc[row_indexer,col_indexer] = value instead\n",
      "\n",
      "See the caveats in the documentation: https://pandas.pydata.org/pandas-docs/stable/user_guide/indexing.html#returning-a-view-versus-a-copy\n",
      "  processed_df[\"mean_x\"] = (processed_df[\"left_x\"] + processed_df[\"right_x\"]) / 2\n",
      "C:\\Users\\hisao\\AppData\\Local\\Temp\\ipykernel_24332\\2325693031.py:2: SettingWithCopyWarning: \n",
      "A value is trying to be set on a copy of a slice from a DataFrame.\n",
      "Try using .loc[row_indexer,col_indexer] = value instead\n",
      "\n",
      "See the caveats in the documentation: https://pandas.pydata.org/pandas-docs/stable/user_guide/indexing.html#returning-a-view-versus-a-copy\n",
      "  processed_df[\"mean_y\"] = (processed_df[\"left_y\"] + processed_df[\"right_y\"]) / 2\n"
     ]
    }
   ],
   "source": [
    "processed_df[\"mean_x\"] = (processed_df[\"left_x\"] + processed_df[\"right_x\"]) / 2\n",
    "processed_df[\"mean_y\"] = (processed_df[\"left_y\"] + processed_df[\"right_y\"]) / 2\n",
    "\n"
   ]
  },
  {
   "cell_type": "code",
   "execution_count": 67,
   "id": "03f351c1",
   "metadata": {},
   "outputs": [],
   "source": [
    "pose1_df = processed_df[(processed_df[\"epoch_time\"] >= pose1_start) & (processed_df[\"epoch_time\"] <= pose1_stop)].copy()"
   ]
  },
  {
   "cell_type": "code",
   "execution_count": 68,
   "id": "0286e33a",
   "metadata": {},
   "outputs": [],
   "source": [
    "# pose1_df.to_csv(f\"./exported_csv/pose_df/pose1_df_id{subject_id}-{experiment_id}.csv\", index=False)"
   ]
  },
  {
   "cell_type": "code",
   "execution_count": 69,
   "id": "dec856df",
   "metadata": {},
   "outputs": [],
   "source": [
    "def evaluate_accuracy(df, pose_name):\n",
    "    total_len = len(df)\n",
    "    \n",
    "    # validity_sum == 2 のデータのみを使う\n",
    "    valid_df = df[df[\"validity_sum\"] == 2].copy()\n",
    "\n",
    "    valid_df[\"mean_x\"] = (valid_df[\"left_x\"] + valid_df[\"right_x\"]) / 2\n",
    "    valid_df[\"mean_y\"] = (valid_df[\"left_y\"] + valid_df[\"right_y\"]) / 2\n",
    "    valid_df = valid_df.dropna(subset=[\"mean_x\", \"mean_y\"])\n",
    "    if valid_df.empty:\n",
    "        raise ValueError(\"有効なデータがありません。\")\n",
    "\n",
    "    # データ行列\n",
    "    data = valid_df[[\"mean_x\", \"mean_y\"]].values\n",
    "\n",
    "    # 重心\n",
    "    center = (0.5,0.5)\n",
    "\n",
    "    # 共分散行列と逆行列\n",
    "    cov = np.cov(data, rowvar=False)\n",
    "    inv_cov = np.linalg.inv(cov)\n",
    "\n",
    "    # 差分\n",
    "    diff = data - center\n",
    "    left = np.dot(diff, inv_cov)\n",
    "    mahal_sq = np.sum(left * diff, axis=1)\n",
    "    mahal_dist = np.sqrt(mahal_sq)\n",
    "\n",
    "    # σ=1以内\n",
    "    within_sigma1 = np.sum(mahal_dist <= 1)\n",
    "    total_valid = len(mahal_dist)\n",
    "    percent_sigma1 = 100 * within_sigma1 / total_valid\n",
    "\n",
    "    # 平均マハラノビス距離\n",
    "    mahal_mean = np.mean(mahal_dist)\n",
    "\n",
    "    # ユークリッド距離も参考値で計算（正確度）\n",
    "    euclid_dist = np.linalg.norm(diff, axis=1)\n",
    "    euclid_mean = np.mean(euclid_dist)\n",
    "\n",
    "    # ユークリッド距離→cm→視野角\n",
    "    euclid_mean_cm = euclid_mean * diag_length_cm\n",
    "    euclid_mean_deg = np.degrees(np.arctan(euclid_mean_cm / viewing_distance_cm))\n",
    "\n",
    "    # 結果\n",
    "    return {\n",
    "        \"subject_id\": subject_id,\n",
    "        \"task_id\": experiment_id,\n",
    "        \"pose\": pose_name,\n",
    "        \"pose_length\": total_len,\n",
    "        \"valid_data_count\": total_valid,\n",
    "        \"center_x\": center[0],\n",
    "        \"center_y\": center[1],\n",
    "        \"mahalanobis_mean\": mahal_mean,\n",
    "        \"percent_within_sigma1\": percent_sigma1,\n",
    "        \"euclid_mean\": euclid_mean,\n",
    "        \"euclid_mean_deg\": euclid_mean_deg,\n",
    "    }"
   ]
  },
  {
   "cell_type": "code",
   "execution_count": 70,
   "id": "c7579696",
   "metadata": {},
   "outputs": [],
   "source": [
    "summary_list = []\n",
    "summary_list.append(evaluate_accuracy(pose1_df, \"pose1\"))\n"
   ]
  },
  {
   "cell_type": "code",
   "execution_count": 71,
   "id": "3cff587f",
   "metadata": {},
   "outputs": [
    {
     "data": {
      "text/html": [
       "<div>\n",
       "<style scoped>\n",
       "    .dataframe tbody tr th:only-of-type {\n",
       "        vertical-align: middle;\n",
       "    }\n",
       "\n",
       "    .dataframe tbody tr th {\n",
       "        vertical-align: top;\n",
       "    }\n",
       "\n",
       "    .dataframe thead th {\n",
       "        text-align: right;\n",
       "    }\n",
       "</style>\n",
       "<table border=\"1\" class=\"dataframe\">\n",
       "  <thead>\n",
       "    <tr style=\"text-align: right;\">\n",
       "      <th></th>\n",
       "      <th>subject_id</th>\n",
       "      <th>task_id</th>\n",
       "      <th>pose</th>\n",
       "      <th>pose_length</th>\n",
       "      <th>valid_data_count</th>\n",
       "      <th>center_x</th>\n",
       "      <th>center_y</th>\n",
       "      <th>mahalanobis_mean</th>\n",
       "      <th>percent_within_sigma1</th>\n",
       "      <th>euclid_mean</th>\n",
       "      <th>euclid_mean_deg</th>\n",
       "    </tr>\n",
       "  </thead>\n",
       "  <tbody>\n",
       "    <tr>\n",
       "      <th>0</th>\n",
       "      <td>001</td>\n",
       "      <td>001</td>\n",
       "      <td>pose1</td>\n",
       "      <td>4028</td>\n",
       "      <td>2784</td>\n",
       "      <td>0.500</td>\n",
       "      <td>0.500</td>\n",
       "      <td>0.879</td>\n",
       "      <td>75.682</td>\n",
       "      <td>0.059</td>\n",
       "      <td>2.639</td>\n",
       "    </tr>\n",
       "  </tbody>\n",
       "</table>\n",
       "</div>"
      ],
      "text/plain": [
       "  subject_id task_id   pose  pose_length  valid_data_count  center_x  \\\n",
       "0        001     001  pose1         4028              2784     0.500   \n",
       "\n",
       "   center_y  mahalanobis_mean  percent_within_sigma1  euclid_mean  \\\n",
       "0     0.500             0.879                 75.682        0.059   \n",
       "\n",
       "   euclid_mean_deg  \n",
       "0            2.639  "
      ]
     },
     "execution_count": 71,
     "metadata": {},
     "output_type": "execute_result"
    }
   ],
   "source": [
    "summary_df = pd.DataFrame(summary_list)\n",
    "summary_df"
   ]
  },
  {
   "cell_type": "code",
   "execution_count": 72,
   "id": "3b783b7b",
   "metadata": {},
   "outputs": [],
   "source": [
    "# summary_df.to_csv(f\"./exported_csv/pose_df/accuracy_summary_all.csv\", index=False)\n"
   ]
  },
  {
   "cell_type": "code",
   "execution_count": 73,
   "id": "9f7302de",
   "metadata": {},
   "outputs": [
    {
     "data": {
      "image/png": "[encoded data removed]",
      "text/plain": [
       "<Figure size 600x600 with 1 Axes>"
      ]
     },
     "metadata": {},
     "output_type": "display_data"
    }
   ],
   "source": [
    "import matplotlib.pyplot as plt\n",
    "\n",
    "\n",
    "\n",
    "# プロット\n",
    "plt.figure(figsize=(6, 6))\n",
    "plt.scatter(pose1_df[\"mean_x\"], pose1_df[\"mean_y\"], alpha=0.3, s=10)\n",
    "plt.title(\"Pose1: Mean Gaze Points\")\n",
    "plt.xlabel(\"mean_x (normalized)\")\n",
    "plt.ylabel(\"mean_y (normalized)\")\n",
    "plt.xlim(0, 1)\n",
    "plt.ylim(1, 0)  # Y軸を画面の上から下に反転\n",
    "plt.grid(True)\n",
    "plt.show()\n",
    "\n",
    "\n"
   ]
  }
 ],
 "metadata": {
  "kernelspec": {
   "display_name": "Python 3",
   "language": "python",
   "name": "python3"
  },
  "language_info": {
   "codemirror_mode": {
    "name": "ipython",
    "version": 3
   },
   "file_extension": ".py",
   "mimetype": "text/x-python",
   "name": "python",
   "nbconvert_exporter": "python",
   "pygments_lexer": "ipython3",
   "version": "3.13.2"
  }
 },
 "nbformat": 4,
 "nbformat_minor": 5
}
